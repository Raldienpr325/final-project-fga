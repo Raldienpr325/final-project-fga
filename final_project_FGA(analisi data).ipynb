{
  "nbformat": 4,
  "nbformat_minor": 0,
  "metadata": {
    "colab": {
      "name": "PenggalianData(TUBES)_047&057.ipynb",
      "provenance": [],
      "collapsed_sections": [
        "EsEgrfZmWBAl",
        "DIXXwW2aWZS-",
        "5UgJqFvVBK0e",
        "04qUg-OE8pdG",
        "NT0s4N3O_heF",
        "XOAbUysCDtLm",
        "8zUSt8qA_5-f"
      ]
    },
    "kernelspec": {
      "display_name": "Python 3",
      "name": "python3"
    },
    "language_info": {
      "name": "python"
    }
  },
  "cells": [
    {
      "cell_type": "markdown",
      "metadata": {
        "id": "rDhwAqeSEtc5"
      },
      "source": [
        "<h1> Prediction Ford Car Price Using Model Machine Learning Linear Regression<h1>"
      ]
    },
    {
      "cell_type": "code",
      "metadata": {
        "id": "wBCR8f2H9zJi"
      },
      "source": [
        "from google.colab import drive\n",
        "drive.mount('/content/drive/')"
      ],
      "execution_count": null,
      "outputs": []
    },
    {
      "cell_type": "markdown",
      "metadata": {
        "id": "6DoDP4JWzrdP"
      },
      "source": [
        "![image.png](data:image/png;base64,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)"
      ]
    },
    {
      "cell_type": "markdown",
      "metadata": {
        "id": "EsEgrfZmWBAl"
      },
      "source": [
        "# import library and dataset"
      ]
    },
    {
      "cell_type": "code",
      "metadata": {
        "id": "Q6rGQCIP_tAl"
      },
      "source": [
        "import pandas as pd\n",
        "import matplotlib.pyplot as plt\n",
        "import numpy as np\n",
        "import seaborn as sns\n",
        "from sklearn.model_selection import train_test_split\n",
        "from sklearn.ensemble import RandomForestRegressor\n",
        "from sklearn.metrics import r2_score,mean_squared_error\n"
      ],
      "execution_count": null,
      "outputs": []
    },
    {
      "cell_type": "code",
      "metadata": {
        "colab": {
          "base_uri": "https://localhost:8080/",
          "height": 200
        },
        "id": "HWQigt1_AIPj",
        "outputId": "eeaa9ace-c5f0-4bac-9c7a-a967cd523eb7"
      },
      "source": [
        "data = pd.read_csv(\"/content/drive/MyDrive/dataset/ford.csv\")\n",
        "data.head()"
      ],
      "execution_count": null,
      "outputs": [
        {
          "output_type": "execute_result",
          "data": {
            "text/html": [
              "<div>\n",
              "<style scoped>\n",
              "    .dataframe tbody tr th:only-of-type {\n",
              "        vertical-align: middle;\n",
              "    }\n",
              "\n",
              "    .dataframe tbody tr th {\n",
              "        vertical-align: top;\n",
              "    }\n",
              "\n",
              "    .dataframe thead th {\n",
              "        text-align: right;\n",
              "    }\n",
              "</style>\n",
              "<table border=\"1\" class=\"dataframe\">\n",
              "  <thead>\n",
              "    <tr style=\"text-align: right;\">\n",
              "      <th></th>\n",
              "      <th>model</th>\n",
              "      <th>year</th>\n",
              "      <th>price</th>\n",
              "      <th>transmission</th>\n",
              "      <th>mileage</th>\n",
              "      <th>fuelType</th>\n",
              "      <th>tax</th>\n",
              "      <th>mpg</th>\n",
              "      <th>engineSize</th>\n",
              "    </tr>\n",
              "  </thead>\n",
              "  <tbody>\n",
              "    <tr>\n",
              "      <th>0</th>\n",
              "      <td>Fiesta</td>\n",
              "      <td>2017</td>\n",
              "      <td>12000</td>\n",
              "      <td>Automatic</td>\n",
              "      <td>15944</td>\n",
              "      <td>Petrol</td>\n",
              "      <td>150</td>\n",
              "      <td>57.7</td>\n",
              "      <td>1.0</td>\n",
              "    </tr>\n",
              "    <tr>\n",
              "      <th>1</th>\n",
              "      <td>Focus</td>\n",
              "      <td>2018</td>\n",
              "      <td>14000</td>\n",
              "      <td>Manual</td>\n",
              "      <td>9083</td>\n",
              "      <td>Petrol</td>\n",
              "      <td>150</td>\n",
              "      <td>57.7</td>\n",
              "      <td>1.0</td>\n",
              "    </tr>\n",
              "    <tr>\n",
              "      <th>2</th>\n",
              "      <td>Focus</td>\n",
              "      <td>2017</td>\n",
              "      <td>13000</td>\n",
              "      <td>Manual</td>\n",
              "      <td>12456</td>\n",
              "      <td>Petrol</td>\n",
              "      <td>150</td>\n",
              "      <td>57.7</td>\n",
              "      <td>1.0</td>\n",
              "    </tr>\n",
              "    <tr>\n",
              "      <th>3</th>\n",
              "      <td>Fiesta</td>\n",
              "      <td>2019</td>\n",
              "      <td>17500</td>\n",
              "      <td>Manual</td>\n",
              "      <td>10460</td>\n",
              "      <td>Petrol</td>\n",
              "      <td>145</td>\n",
              "      <td>40.3</td>\n",
              "      <td>1.5</td>\n",
              "    </tr>\n",
              "    <tr>\n",
              "      <th>4</th>\n",
              "      <td>Fiesta</td>\n",
              "      <td>2019</td>\n",
              "      <td>16500</td>\n",
              "      <td>Automatic</td>\n",
              "      <td>1482</td>\n",
              "      <td>Petrol</td>\n",
              "      <td>145</td>\n",
              "      <td>48.7</td>\n",
              "      <td>1.0</td>\n",
              "    </tr>\n",
              "  </tbody>\n",
              "</table>\n",
              "</div>"
            ],
            "text/plain": [
              "     model  year  price transmission  mileage fuelType  tax   mpg  engineSize\n",
              "0   Fiesta  2017  12000    Automatic    15944   Petrol  150  57.7         1.0\n",
              "1    Focus  2018  14000       Manual     9083   Petrol  150  57.7         1.0\n",
              "2    Focus  2017  13000       Manual    12456   Petrol  150  57.7         1.0\n",
              "3   Fiesta  2019  17500       Manual    10460   Petrol  145  40.3         1.5\n",
              "4   Fiesta  2019  16500    Automatic     1482   Petrol  145  48.7         1.0"
            ]
          },
          "metadata": {
            "tags": []
          },
          "execution_count": 4
        }
      ]
    },
    {
      "cell_type": "markdown",
      "metadata": {
        "id": "DIXXwW2aWZS-"
      },
      "source": [
        "#  Exploratory data analysis"
      ]
    },
    {
      "cell_type": "code",
      "metadata": {
        "colab": {
          "base_uri": "https://localhost:8080/"
        },
        "id": "NfxQv_a8Hd05",
        "outputId": "8d65add2-4e90-4b4e-ea6f-e489a6275751"
      },
      "source": [
        "#data summary for price atribut \n",
        "\n",
        "data.price.describe()"
      ],
      "execution_count": null,
      "outputs": [
        {
          "output_type": "execute_result",
          "data": {
            "text/plain": [
              "count    17965.000000\n",
              "mean     12279.756415\n",
              "std       4741.382606\n",
              "min        495.000000\n",
              "25%       8999.000000\n",
              "50%      11291.000000\n",
              "75%      15299.000000\n",
              "max      54995.000000\n",
              "Name: price, dtype: float64"
            ]
          },
          "metadata": {
            "tags": []
          },
          "execution_count": 5
        }
      ]
    },
    {
      "cell_type": "code",
      "metadata": {
        "colab": {
          "base_uri": "https://localhost:8080/",
          "height": 362
        },
        "id": "j0gtLpgsIp3u",
        "outputId": "b75ab6b7-4702-4dcd-80f1-fb28900e4ee9"
      },
      "source": [
        "# sort start from 10 high price\n",
        "data.sort_values('price', ascending=True).head(10)"
      ],
      "execution_count": null,
      "outputs": [
        {
          "output_type": "execute_result",
          "data": {
            "text/html": [
              "<div>\n",
              "<style scoped>\n",
              "    .dataframe tbody tr th:only-of-type {\n",
              "        vertical-align: middle;\n",
              "    }\n",
              "\n",
              "    .dataframe tbody tr th {\n",
              "        vertical-align: top;\n",
              "    }\n",
              "\n",
              "    .dataframe thead th {\n",
              "        text-align: right;\n",
              "    }\n",
              "</style>\n",
              "<table border=\"1\" class=\"dataframe\">\n",
              "  <thead>\n",
              "    <tr style=\"text-align: right;\">\n",
              "      <th></th>\n",
              "      <th>model</th>\n",
              "      <th>year</th>\n",
              "      <th>price</th>\n",
              "      <th>transmission</th>\n",
              "      <th>mileage</th>\n",
              "      <th>fuelType</th>\n",
              "      <th>tax</th>\n",
              "      <th>mpg</th>\n",
              "      <th>engineSize</th>\n",
              "    </tr>\n",
              "  </thead>\n",
              "  <tbody>\n",
              "    <tr>\n",
              "      <th>17103</th>\n",
              "      <td>Focus</td>\n",
              "      <td>2003</td>\n",
              "      <td>495</td>\n",
              "      <td>Manual</td>\n",
              "      <td>177644</td>\n",
              "      <td>Petrol</td>\n",
              "      <td>200</td>\n",
              "      <td>41.5</td>\n",
              "      <td>1.6</td>\n",
              "    </tr>\n",
              "    <tr>\n",
              "      <th>16904</th>\n",
              "      <td>Focus</td>\n",
              "      <td>2005</td>\n",
              "      <td>675</td>\n",
              "      <td>Manual</td>\n",
              "      <td>121000</td>\n",
              "      <td>Petrol</td>\n",
              "      <td>235</td>\n",
              "      <td>39.8</td>\n",
              "      <td>2.0</td>\n",
              "    </tr>\n",
              "    <tr>\n",
              "      <th>14222</th>\n",
              "      <td>Mondeo</td>\n",
              "      <td>2005</td>\n",
              "      <td>675</td>\n",
              "      <td>Manual</td>\n",
              "      <td>97000</td>\n",
              "      <td>Diesel</td>\n",
              "      <td>205</td>\n",
              "      <td>48.7</td>\n",
              "      <td>2.0</td>\n",
              "    </tr>\n",
              "    <tr>\n",
              "      <th>16811</th>\n",
              "      <td>Mondeo</td>\n",
              "      <td>2005</td>\n",
              "      <td>675</td>\n",
              "      <td>Manual</td>\n",
              "      <td>108000</td>\n",
              "      <td>Petrol</td>\n",
              "      <td>260</td>\n",
              "      <td>36.2</td>\n",
              "      <td>1.8</td>\n",
              "    </tr>\n",
              "    <tr>\n",
              "      <th>16704</th>\n",
              "      <td>Fiesta</td>\n",
              "      <td>2008</td>\n",
              "      <td>694</td>\n",
              "      <td>Manual</td>\n",
              "      <td>82020</td>\n",
              "      <td>Petrol</td>\n",
              "      <td>145</td>\n",
              "      <td>47.1</td>\n",
              "      <td>1.2</td>\n",
              "    </tr>\n",
              "    <tr>\n",
              "      <th>17248</th>\n",
              "      <td>KA</td>\n",
              "      <td>2008</td>\n",
              "      <td>795</td>\n",
              "      <td>Manual</td>\n",
              "      <td>76000</td>\n",
              "      <td>Petrol</td>\n",
              "      <td>205</td>\n",
              "      <td>43.5</td>\n",
              "      <td>1.3</td>\n",
              "    </tr>\n",
              "    <tr>\n",
              "      <th>17436</th>\n",
              "      <td>Focus</td>\n",
              "      <td>2005</td>\n",
              "      <td>795</td>\n",
              "      <td>Manual</td>\n",
              "      <td>71214</td>\n",
              "      <td>Petrol</td>\n",
              "      <td>200</td>\n",
              "      <td>42.1</td>\n",
              "      <td>1.6</td>\n",
              "    </tr>\n",
              "    <tr>\n",
              "      <th>17371</th>\n",
              "      <td>KA</td>\n",
              "      <td>2008</td>\n",
              "      <td>850</td>\n",
              "      <td>Manual</td>\n",
              "      <td>77000</td>\n",
              "      <td>Petrol</td>\n",
              "      <td>195</td>\n",
              "      <td>43.5</td>\n",
              "      <td>1.3</td>\n",
              "    </tr>\n",
              "    <tr>\n",
              "      <th>14367</th>\n",
              "      <td>Mondeo</td>\n",
              "      <td>2002</td>\n",
              "      <td>895</td>\n",
              "      <td>Manual</td>\n",
              "      <td>136784</td>\n",
              "      <td>Petrol</td>\n",
              "      <td>300</td>\n",
              "      <td>36.2</td>\n",
              "      <td>1.8</td>\n",
              "    </tr>\n",
              "    <tr>\n",
              "      <th>16907</th>\n",
              "      <td>Fiesta</td>\n",
              "      <td>2004</td>\n",
              "      <td>950</td>\n",
              "      <td>Manual</td>\n",
              "      <td>74000</td>\n",
              "      <td>Petrol</td>\n",
              "      <td>160</td>\n",
              "      <td>45.6</td>\n",
              "      <td>1.2</td>\n",
              "    </tr>\n",
              "  </tbody>\n",
              "</table>\n",
              "</div>"
            ],
            "text/plain": [
              "         model  year  price transmission  ...  fuelType  tax   mpg  engineSize\n",
              "17103    Focus  2003    495       Manual  ...    Petrol  200  41.5         1.6\n",
              "16904    Focus  2005    675       Manual  ...    Petrol  235  39.8         2.0\n",
              "14222   Mondeo  2005    675       Manual  ...    Diesel  205  48.7         2.0\n",
              "16811   Mondeo  2005    675       Manual  ...    Petrol  260  36.2         1.8\n",
              "16704   Fiesta  2008    694       Manual  ...    Petrol  145  47.1         1.2\n",
              "17248       KA  2008    795       Manual  ...    Petrol  205  43.5         1.3\n",
              "17436    Focus  2005    795       Manual  ...    Petrol  200  42.1         1.6\n",
              "17371       KA  2008    850       Manual  ...    Petrol  195  43.5         1.3\n",
              "14367   Mondeo  2002    895       Manual  ...    Petrol  300  36.2         1.8\n",
              "16907   Fiesta  2004    950       Manual  ...    Petrol  160  45.6         1.2\n",
              "\n",
              "[10 rows x 9 columns]"
            ]
          },
          "metadata": {
            "tags": []
          },
          "execution_count": 8
        }
      ]
    },
    {
      "cell_type": "code",
      "metadata": {
        "colab": {
          "base_uri": "https://localhost:8080/",
          "height": 362
        },
        "id": "P0OGZg01I07m",
        "outputId": "87a3dab1-76f9-405d-eaa5-7cd4779cf535"
      },
      "source": [
        "# sort start from 10 low price\n",
        "data.sort_values('price', ascending=False).head(10)"
      ],
      "execution_count": null,
      "outputs": [
        {
          "output_type": "execute_result",
          "data": {
            "text/html": [
              "<div>\n",
              "<style scoped>\n",
              "    .dataframe tbody tr th:only-of-type {\n",
              "        vertical-align: middle;\n",
              "    }\n",
              "\n",
              "    .dataframe tbody tr th {\n",
              "        vertical-align: top;\n",
              "    }\n",
              "\n",
              "    .dataframe thead th {\n",
              "        text-align: right;\n",
              "    }\n",
              "</style>\n",
              "<table border=\"1\" class=\"dataframe\">\n",
              "  <thead>\n",
              "    <tr style=\"text-align: right;\">\n",
              "      <th></th>\n",
              "      <th>model</th>\n",
              "      <th>year</th>\n",
              "      <th>price</th>\n",
              "      <th>transmission</th>\n",
              "      <th>mileage</th>\n",
              "      <th>fuelType</th>\n",
              "      <th>tax</th>\n",
              "      <th>mpg</th>\n",
              "      <th>engineSize</th>\n",
              "    </tr>\n",
              "  </thead>\n",
              "  <tbody>\n",
              "    <tr>\n",
              "      <th>11912</th>\n",
              "      <td>Focus</td>\n",
              "      <td>2018</td>\n",
              "      <td>54995</td>\n",
              "      <td>Manual</td>\n",
              "      <td>11000</td>\n",
              "      <td>Petrol</td>\n",
              "      <td>145</td>\n",
              "      <td>36.7</td>\n",
              "      <td>2.3</td>\n",
              "    </tr>\n",
              "    <tr>\n",
              "      <th>11913</th>\n",
              "      <td>Mustang</td>\n",
              "      <td>2017</td>\n",
              "      <td>49999</td>\n",
              "      <td>Manual</td>\n",
              "      <td>21575</td>\n",
              "      <td>Petrol</td>\n",
              "      <td>145</td>\n",
              "      <td>20.9</td>\n",
              "      <td>5.0</td>\n",
              "    </tr>\n",
              "    <tr>\n",
              "      <th>11910</th>\n",
              "      <td>Mustang</td>\n",
              "      <td>2017</td>\n",
              "      <td>48999</td>\n",
              "      <td>Automatic</td>\n",
              "      <td>7546</td>\n",
              "      <td>Petrol</td>\n",
              "      <td>145</td>\n",
              "      <td>23.5</td>\n",
              "      <td>5.0</td>\n",
              "    </tr>\n",
              "    <tr>\n",
              "      <th>17866</th>\n",
              "      <td>Mustang</td>\n",
              "      <td>2020</td>\n",
              "      <td>48000</td>\n",
              "      <td>Manual</td>\n",
              "      <td>50</td>\n",
              "      <td>Petrol</td>\n",
              "      <td>145</td>\n",
              "      <td>23.9</td>\n",
              "      <td>5.0</td>\n",
              "    </tr>\n",
              "    <tr>\n",
              "      <th>12613</th>\n",
              "      <td>Mustang</td>\n",
              "      <td>2019</td>\n",
              "      <td>45250</td>\n",
              "      <td>Automatic</td>\n",
              "      <td>2500</td>\n",
              "      <td>Petrol</td>\n",
              "      <td>145</td>\n",
              "      <td>22.1</td>\n",
              "      <td>5.0</td>\n",
              "    </tr>\n",
              "    <tr>\n",
              "      <th>10901</th>\n",
              "      <td>Mustang</td>\n",
              "      <td>2020</td>\n",
              "      <td>42999</td>\n",
              "      <td>Manual</td>\n",
              "      <td>10</td>\n",
              "      <td>Petrol</td>\n",
              "      <td>145</td>\n",
              "      <td>23.7</td>\n",
              "      <td>5.0</td>\n",
              "    </tr>\n",
              "    <tr>\n",
              "      <th>12996</th>\n",
              "      <td>Mustang</td>\n",
              "      <td>2019</td>\n",
              "      <td>42500</td>\n",
              "      <td>Automatic</td>\n",
              "      <td>226</td>\n",
              "      <td>Petrol</td>\n",
              "      <td>145</td>\n",
              "      <td>22.1</td>\n",
              "      <td>5.0</td>\n",
              "    </tr>\n",
              "    <tr>\n",
              "      <th>302</th>\n",
              "      <td>Mustang</td>\n",
              "      <td>2020</td>\n",
              "      <td>42489</td>\n",
              "      <td>Automatic</td>\n",
              "      <td>3500</td>\n",
              "      <td>Petrol</td>\n",
              "      <td>145</td>\n",
              "      <td>22.1</td>\n",
              "      <td>5.0</td>\n",
              "    </tr>\n",
              "    <tr>\n",
              "      <th>13431</th>\n",
              "      <td>Mustang</td>\n",
              "      <td>2019</td>\n",
              "      <td>42000</td>\n",
              "      <td>Semi-Auto</td>\n",
              "      <td>756</td>\n",
              "      <td>Petrol</td>\n",
              "      <td>150</td>\n",
              "      <td>22.6</td>\n",
              "      <td>5.0</td>\n",
              "    </tr>\n",
              "    <tr>\n",
              "      <th>12600</th>\n",
              "      <td>Mustang</td>\n",
              "      <td>2020</td>\n",
              "      <td>41000</td>\n",
              "      <td>Manual</td>\n",
              "      <td>100</td>\n",
              "      <td>Petrol</td>\n",
              "      <td>145</td>\n",
              "      <td>22.8</td>\n",
              "      <td>5.0</td>\n",
              "    </tr>\n",
              "  </tbody>\n",
              "</table>\n",
              "</div>"
            ],
            "text/plain": [
              "          model  year  price transmission  ...  fuelType  tax   mpg  engineSize\n",
              "11912     Focus  2018  54995       Manual  ...    Petrol  145  36.7         2.3\n",
              "11913   Mustang  2017  49999       Manual  ...    Petrol  145  20.9         5.0\n",
              "11910   Mustang  2017  48999    Automatic  ...    Petrol  145  23.5         5.0\n",
              "17866   Mustang  2020  48000       Manual  ...    Petrol  145  23.9         5.0\n",
              "12613   Mustang  2019  45250    Automatic  ...    Petrol  145  22.1         5.0\n",
              "10901   Mustang  2020  42999       Manual  ...    Petrol  145  23.7         5.0\n",
              "12996   Mustang  2019  42500    Automatic  ...    Petrol  145  22.1         5.0\n",
              "302     Mustang  2020  42489    Automatic  ...    Petrol  145  22.1         5.0\n",
              "13431   Mustang  2019  42000    Semi-Auto  ...    Petrol  150  22.6         5.0\n",
              "12600   Mustang  2020  41000       Manual  ...    Petrol  145  22.8         5.0\n",
              "\n",
              "[10 rows x 9 columns]"
            ]
          },
          "metadata": {
            "tags": []
          },
          "execution_count": 10
        }
      ]
    },
    {
      "cell_type": "code",
      "metadata": {
        "colab": {
          "base_uri": "https://localhost:8080/"
        },
        "id": "OMBNnZ-2alAx",
        "outputId": "43d9fd07-ab60-447b-92ec-84b061f55719"
      },
      "source": [
        "# other model\n",
        "data['model'].value_counts()"
      ],
      "execution_count": null,
      "outputs": [
        {
          "output_type": "execute_result",
          "data": {
            "text/plain": [
              " Fiesta                   6557\n",
              " Focus                    4588\n",
              " Kuga                     2225\n",
              " EcoSport                 1143\n",
              " C-MAX                     543\n",
              " Ka+                       531\n",
              " Mondeo                    526\n",
              " B-MAX                     355\n",
              " S-MAX                     296\n",
              " Grand C-MAX               247\n",
              " Galaxy                    228\n",
              " Edge                      208\n",
              " KA                        199\n",
              " Puma                       80\n",
              " Tourneo Custom             69\n",
              " Grand Tourneo Connect      59\n",
              " Mustang                    57\n",
              " Tourneo Connect            33\n",
              " Fusion                     16\n",
              " Streetka                    2\n",
              " Escort                      1\n",
              " Ranger                      1\n",
              " Transit Tourneo             1\n",
              "Name: model, dtype: int64"
            ]
          },
          "metadata": {
            "tags": []
          },
          "execution_count": 11
        }
      ]
    },
    {
      "cell_type": "markdown",
      "metadata": {
        "id": "4esqfmoYWvTL"
      },
      "source": [
        "cek dimensi dataset ? terdapat 10668 baris dan 9 kolom"
      ]
    },
    {
      "cell_type": "code",
      "metadata": {
        "colab": {
          "base_uri": "https://localhost:8080/"
        },
        "id": "M8MInfNeBl2C",
        "outputId": "6763929f-9bb7-49b6-b37e-03a1558b3895"
      },
      "source": [
        "data.shape"
      ],
      "execution_count": null,
      "outputs": [
        {
          "output_type": "execute_result",
          "data": {
            "text/plain": [
              "(17965, 9)"
            ]
          },
          "metadata": {
            "tags": []
          },
          "execution_count": 4
        }
      ]
    },
    {
      "cell_type": "markdown",
      "metadata": {
        "id": "zKxD1mgJW0zU"
      },
      "source": [
        "cek missing value, cek tipe data, dan cek atribut-atribut"
      ]
    },
    {
      "cell_type": "code",
      "metadata": {
        "colab": {
          "base_uri": "https://localhost:8080/"
        },
        "id": "GwHpoTOXAH6y",
        "outputId": "3993a00a-f196-46dd-adb5-082ec154a396"
      },
      "source": [
        "data.info()"
      ],
      "execution_count": null,
      "outputs": [
        {
          "output_type": "stream",
          "text": [
            "<class 'pandas.core.frame.DataFrame'>\n",
            "RangeIndex: 17965 entries, 0 to 17964\n",
            "Data columns (total 9 columns):\n",
            " #   Column        Non-Null Count  Dtype  \n",
            "---  ------        --------------  -----  \n",
            " 0   model         17965 non-null  object \n",
            " 1   year          17965 non-null  int64  \n",
            " 2   price         17965 non-null  int64  \n",
            " 3   transmission  17965 non-null  object \n",
            " 4   mileage       17965 non-null  int64  \n",
            " 5   fuelType      17965 non-null  object \n",
            " 6   tax           17965 non-null  int64  \n",
            " 7   mpg           17965 non-null  float64\n",
            " 8   engineSize    17965 non-null  float64\n",
            "dtypes: float64(2), int64(4), object(3)\n",
            "memory usage: 1.2+ MB\n"
          ],
          "name": "stdout"
        }
      ]
    },
    {
      "cell_type": "code",
      "metadata": {
        "colab": {
          "base_uri": "https://localhost:8080/"
        },
        "id": "SuuOMQxgBIUv",
        "outputId": "5d71ba0d-fcc7-4d2c-cceb-9ebdada62598"
      },
      "source": [
        "data.isnull().sum()"
      ],
      "execution_count": null,
      "outputs": [
        {
          "output_type": "execute_result",
          "data": {
            "text/plain": [
              "model           0\n",
              "year            0\n",
              "price           0\n",
              "transmission    0\n",
              "mileage         0\n",
              "fuelType        0\n",
              "tax             0\n",
              "mpg             0\n",
              "engineSize      0\n",
              "dtype: int64"
            ]
          },
          "metadata": {
            "tags": []
          },
          "execution_count": 6
        }
      ]
    },
    {
      "cell_type": "markdown",
      "metadata": {
        "id": "5cbFewsGXeG1"
      },
      "source": [
        "melihat ada berapa versi mobil audi "
      ]
    },
    {
      "cell_type": "code",
      "metadata": {
        "colab": {
          "base_uri": "https://localhost:8080/",
          "height": 847
        },
        "id": "eFRD4AmbXXzo",
        "outputId": "2ad10d13-ba13-42d7-930b-5b6587f6eddc"
      },
      "source": [
        "data.groupby('model')['price','mileage','tax'].sum()"
      ],
      "execution_count": null,
      "outputs": [
        {
          "output_type": "stream",
          "text": [
            "/usr/local/lib/python3.7/dist-packages/ipykernel_launcher.py:1: FutureWarning: Indexing with multiple keys (implicitly converted to a tuple of keys) will be deprecated, use a list instead.\n",
            "  \"\"\"Entry point for launching an IPython kernel.\n"
          ],
          "name": "stderr"
        },
        {
          "output_type": "execute_result",
          "data": {
            "text/html": [
              "<div>\n",
              "<style scoped>\n",
              "    .dataframe tbody tr th:only-of-type {\n",
              "        vertical-align: middle;\n",
              "    }\n",
              "\n",
              "    .dataframe tbody tr th {\n",
              "        vertical-align: top;\n",
              "    }\n",
              "\n",
              "    .dataframe thead th {\n",
              "        text-align: right;\n",
              "    }\n",
              "</style>\n",
              "<table border=\"1\" class=\"dataframe\">\n",
              "  <thead>\n",
              "    <tr style=\"text-align: right;\">\n",
              "      <th></th>\n",
              "      <th>price</th>\n",
              "      <th>mileage</th>\n",
              "      <th>tax</th>\n",
              "    </tr>\n",
              "    <tr>\n",
              "      <th>model</th>\n",
              "      <th></th>\n",
              "      <th></th>\n",
              "      <th></th>\n",
              "    </tr>\n",
              "  </thead>\n",
              "  <tbody>\n",
              "    <tr>\n",
              "      <th>0</th>\n",
              "      <td>2942072</td>\n",
              "      <td>9986766</td>\n",
              "      <td>32290</td>\n",
              "    </tr>\n",
              "    <tr>\n",
              "      <th>1</th>\n",
              "      <td>5383610</td>\n",
              "      <td>15452140</td>\n",
              "      <td>38940</td>\n",
              "    </tr>\n",
              "    <tr>\n",
              "      <th>2</th>\n",
              "      <td>14286664</td>\n",
              "      <td>18824989</td>\n",
              "      <td>155840</td>\n",
              "    </tr>\n",
              "    <tr>\n",
              "      <th>3</th>\n",
              "      <td>4744584</td>\n",
              "      <td>4528055</td>\n",
              "      <td>32635</td>\n",
              "    </tr>\n",
              "    <tr>\n",
              "      <th>4</th>\n",
              "      <td>3000</td>\n",
              "      <td>50000</td>\n",
              "      <td>265</td>\n",
              "    </tr>\n",
              "    <tr>\n",
              "      <th>5</th>\n",
              "      <td>66857126</td>\n",
              "      <td>142183089</td>\n",
              "      <td>661455</td>\n",
              "    </tr>\n",
              "    <tr>\n",
              "      <th>6</th>\n",
              "      <td>60496831</td>\n",
              "      <td>108897439</td>\n",
              "      <td>509985</td>\n",
              "    </tr>\n",
              "    <tr>\n",
              "      <th>7</th>\n",
              "      <td>40893</td>\n",
              "      <td>1054221</td>\n",
              "      <td>2940</td>\n",
              "    </tr>\n",
              "    <tr>\n",
              "      <th>8</th>\n",
              "      <td>4067947</td>\n",
              "      <td>7522850</td>\n",
              "      <td>33255</td>\n",
              "    </tr>\n",
              "    <tr>\n",
              "      <th>9</th>\n",
              "      <td>2687749</td>\n",
              "      <td>6887018</td>\n",
              "      <td>17990</td>\n",
              "    </tr>\n",
              "    <tr>\n",
              "      <th>10</th>\n",
              "      <td>877620</td>\n",
              "      <td>1392541</td>\n",
              "      <td>6735</td>\n",
              "    </tr>\n",
              "    <tr>\n",
              "      <th>11</th>\n",
              "      <td>1032039</td>\n",
              "      <td>7085309</td>\n",
              "      <td>11180</td>\n",
              "    </tr>\n",
              "    <tr>\n",
              "      <th>12</th>\n",
              "      <td>4623872</td>\n",
              "      <td>6160809</td>\n",
              "      <td>71595</td>\n",
              "    </tr>\n",
              "    <tr>\n",
              "      <th>13</th>\n",
              "      <td>35207226</td>\n",
              "      <td>52749190</td>\n",
              "      <td>324225</td>\n",
              "    </tr>\n",
              "    <tr>\n",
              "      <th>14</th>\n",
              "      <td>6472803</td>\n",
              "      <td>24109070</td>\n",
              "      <td>52400</td>\n",
              "    </tr>\n",
              "    <tr>\n",
              "      <th>15</th>\n",
              "      <td>1973982</td>\n",
              "      <td>540368</td>\n",
              "      <td>12005</td>\n",
              "    </tr>\n",
              "    <tr>\n",
              "      <th>16</th>\n",
              "      <td>1715780</td>\n",
              "      <td>307191</td>\n",
              "      <td>11840</td>\n",
              "    </tr>\n",
              "    <tr>\n",
              "      <th>17</th>\n",
              "      <td>14495</td>\n",
              "      <td>88000</td>\n",
              "      <td>240</td>\n",
              "    </tr>\n",
              "    <tr>\n",
              "      <th>18</th>\n",
              "      <td>5245187</td>\n",
              "      <td>9441299</td>\n",
              "      <td>44515</td>\n",
              "    </tr>\n",
              "    <tr>\n",
              "      <th>19</th>\n",
              "      <td>3849</td>\n",
              "      <td>137055</td>\n",
              "      <td>560</td>\n",
              "    </tr>\n",
              "    <tr>\n",
              "      <th>20</th>\n",
              "      <td>455592</td>\n",
              "      <td>807124</td>\n",
              "      <td>3590</td>\n",
              "    </tr>\n",
              "    <tr>\n",
              "      <th>21</th>\n",
              "      <td>1460453</td>\n",
              "      <td>1503603</td>\n",
              "      <td>11340</td>\n",
              "    </tr>\n",
              "    <tr>\n",
              "      <th>22</th>\n",
              "      <td>12450</td>\n",
              "      <td>19496</td>\n",
              "      <td>235</td>\n",
              "    </tr>\n",
              "  </tbody>\n",
              "</table>\n",
              "</div>"
            ],
            "text/plain": [
              "          price    mileage     tax\n",
              "model                             \n",
              "0       2942072    9986766   32290\n",
              "1       5383610   15452140   38940\n",
              "2      14286664   18824989  155840\n",
              "3       4744584    4528055   32635\n",
              "4          3000      50000     265\n",
              "5      66857126  142183089  661455\n",
              "6      60496831  108897439  509985\n",
              "7         40893    1054221    2940\n",
              "8       4067947    7522850   33255\n",
              "9       2687749    6887018   17990\n",
              "10       877620    1392541    6735\n",
              "11      1032039    7085309   11180\n",
              "12      4623872    6160809   71595\n",
              "13     35207226   52749190  324225\n",
              "14      6472803   24109070   52400\n",
              "15      1973982     540368   12005\n",
              "16      1715780     307191   11840\n",
              "17        14495      88000     240\n",
              "18      5245187    9441299   44515\n",
              "19         3849     137055     560\n",
              "20       455592     807124    3590\n",
              "21      1460453    1503603   11340\n",
              "22        12450      19496     235"
            ]
          },
          "metadata": {
            "tags": []
          },
          "execution_count": 35
        }
      ]
    },
    {
      "cell_type": "code",
      "metadata": {
        "colab": {
          "base_uri": "https://localhost:8080/"
        },
        "id": "FwU5zr7_BOA9",
        "outputId": "90814529-58e2-4753-df89-343f12014358"
      },
      "source": [
        "data['model'].value_counts().count()"
      ],
      "execution_count": null,
      "outputs": [
        {
          "output_type": "execute_result",
          "data": {
            "text/plain": [
              "23"
            ]
          },
          "metadata": {
            "tags": []
          },
          "execution_count": 8
        }
      ]
    },
    {
      "cell_type": "code",
      "metadata": {
        "colab": {
          "base_uri": "https://localhost:8080/"
        },
        "id": "NCa9hPbZTXqc",
        "outputId": "2f98fdd1-ecaa-4c3f-fd37-4f7286169cf3"
      },
      "source": [
        "data['mpg'].value_counts()"
      ],
      "execution_count": null,
      "outputs": [
        {
          "output_type": "execute_result",
          "data": {
            "text/plain": [
              "65.7    2528\n",
              "54.3    1774\n",
              "60.1    1674\n",
              "64.2     995\n",
              "57.7     961\n",
              "        ... \n",
              "37.1       1\n",
              "28.0       1\n",
              "32.1       1\n",
              "69.0       1\n",
              "23.7       1\n",
              "Name: mpg, Length: 90, dtype: int64"
            ]
          },
          "metadata": {
            "tags": []
          },
          "execution_count": 11
        }
      ]
    },
    {
      "cell_type": "code",
      "metadata": {
        "colab": {
          "base_uri": "https://localhost:8080/",
          "height": 297
        },
        "id": "ER0MA642ZE7e",
        "outputId": "5e1aa254-6236-4306-fbc3-edf86906ff88"
      },
      "source": [
        "data.describe()"
      ],
      "execution_count": null,
      "outputs": [
        {
          "output_type": "execute_result",
          "data": {
            "text/html": [
              "<div>\n",
              "<style scoped>\n",
              "    .dataframe tbody tr th:only-of-type {\n",
              "        vertical-align: middle;\n",
              "    }\n",
              "\n",
              "    .dataframe tbody tr th {\n",
              "        vertical-align: top;\n",
              "    }\n",
              "\n",
              "    .dataframe thead th {\n",
              "        text-align: right;\n",
              "    }\n",
              "</style>\n",
              "<table border=\"1\" class=\"dataframe\">\n",
              "  <thead>\n",
              "    <tr style=\"text-align: right;\">\n",
              "      <th></th>\n",
              "      <th>year</th>\n",
              "      <th>price</th>\n",
              "      <th>mileage</th>\n",
              "      <th>tax</th>\n",
              "      <th>mpg</th>\n",
              "      <th>engineSize</th>\n",
              "    </tr>\n",
              "  </thead>\n",
              "  <tbody>\n",
              "    <tr>\n",
              "      <th>count</th>\n",
              "      <td>17965.000000</td>\n",
              "      <td>17965.000000</td>\n",
              "      <td>17965.000000</td>\n",
              "      <td>17965.000000</td>\n",
              "      <td>17965.000000</td>\n",
              "      <td>17965.000000</td>\n",
              "    </tr>\n",
              "    <tr>\n",
              "      <th>mean</th>\n",
              "      <td>2016.866574</td>\n",
              "      <td>12279.756415</td>\n",
              "      <td>23363.630504</td>\n",
              "      <td>113.334539</td>\n",
              "      <td>57.906991</td>\n",
              "      <td>1.350827</td>\n",
              "    </tr>\n",
              "    <tr>\n",
              "      <th>std</th>\n",
              "      <td>2.050346</td>\n",
              "      <td>4741.382606</td>\n",
              "      <td>19472.114690</td>\n",
              "      <td>62.010438</td>\n",
              "      <td>10.125977</td>\n",
              "      <td>0.432371</td>\n",
              "    </tr>\n",
              "    <tr>\n",
              "      <th>min</th>\n",
              "      <td>1996.000000</td>\n",
              "      <td>495.000000</td>\n",
              "      <td>1.000000</td>\n",
              "      <td>0.000000</td>\n",
              "      <td>20.800000</td>\n",
              "      <td>0.000000</td>\n",
              "    </tr>\n",
              "    <tr>\n",
              "      <th>25%</th>\n",
              "      <td>2016.000000</td>\n",
              "      <td>8999.000000</td>\n",
              "      <td>9987.000000</td>\n",
              "      <td>30.000000</td>\n",
              "      <td>52.300000</td>\n",
              "      <td>1.000000</td>\n",
              "    </tr>\n",
              "    <tr>\n",
              "      <th>50%</th>\n",
              "      <td>2017.000000</td>\n",
              "      <td>11291.000000</td>\n",
              "      <td>18243.000000</td>\n",
              "      <td>145.000000</td>\n",
              "      <td>58.900000</td>\n",
              "      <td>1.200000</td>\n",
              "    </tr>\n",
              "    <tr>\n",
              "      <th>75%</th>\n",
              "      <td>2018.000000</td>\n",
              "      <td>15299.000000</td>\n",
              "      <td>31064.000000</td>\n",
              "      <td>145.000000</td>\n",
              "      <td>65.700000</td>\n",
              "      <td>1.500000</td>\n",
              "    </tr>\n",
              "    <tr>\n",
              "      <th>max</th>\n",
              "      <td>2060.000000</td>\n",
              "      <td>54995.000000</td>\n",
              "      <td>177644.000000</td>\n",
              "      <td>580.000000</td>\n",
              "      <td>201.800000</td>\n",
              "      <td>5.000000</td>\n",
              "    </tr>\n",
              "  </tbody>\n",
              "</table>\n",
              "</div>"
            ],
            "text/plain": [
              "               year         price  ...           mpg    engineSize\n",
              "count  17965.000000  17965.000000  ...  17965.000000  17965.000000\n",
              "mean    2016.866574  12279.756415  ...     57.906991      1.350827\n",
              "std        2.050346   4741.382606  ...     10.125977      0.432371\n",
              "min     1996.000000    495.000000  ...     20.800000      0.000000\n",
              "25%     2016.000000   8999.000000  ...     52.300000      1.000000\n",
              "50%     2017.000000  11291.000000  ...     58.900000      1.200000\n",
              "75%     2018.000000  15299.000000  ...     65.700000      1.500000\n",
              "max     2060.000000  54995.000000  ...    201.800000      5.000000\n",
              "\n",
              "[8 rows x 6 columns]"
            ]
          },
          "metadata": {
            "tags": []
          },
          "execution_count": 9
        }
      ]
    },
    {
      "cell_type": "code",
      "metadata": {
        "colab": {
          "base_uri": "https://localhost:8080/",
          "height": 296
        },
        "id": "DvEYAg8cHLLm",
        "outputId": "1ff0c615-fb8d-4c4a-c550-ad00704b6d17"
      },
      "source": [
        "sns.histplot(data['price'], bins=30)"
      ],
      "execution_count": null,
      "outputs": [
        {
          "output_type": "execute_result",
          "data": {
            "text/plain": [
              "<matplotlib.axes._subplots.AxesSubplot at 0x7f4a8aaddb50>"
            ]
          },
          "metadata": {
            "tags": []
          },
          "execution_count": 10
        },
        {
          "output_type": "display_data",
          "data": {
            "image/png": "[encoded data removed]",
            "text/plain": [
              "<Figure size 432x288 with 1 Axes>"
            ]
          },
          "metadata": {
            "tags": []
          }
        }
      ]
    },
    {
      "cell_type": "markdown",
      "metadata": {
        "id": "rp4kyiYgS2R7"
      },
      "source": [
        "- price/harga dengan rata - rata paling banyak di jual di pasaran US yaitu terdapat pada mobil dengan harga 10000 "
      ]
    },
    {
      "cell_type": "code",
      "metadata": {
        "id": "noVeLPLAJuc5"
      },
      "source": [
        "def plot_numerical(feature):\n",
        "    ax = sns.lmplot(x=feature, y='price', data=data)\n",
        "    ax.set_xticklabels(rotation=85)\n",
        "    plt.show()\n",
        "    \n",
        "def plot_categorical(feature, figsize=None):\n",
        "    df = data.groupby([feature])['price'].describe()[['mean', '50%', 'min', 'count']]\n",
        "\n",
        "    labels = df.index.values\n",
        "    x = np.arange(len(labels))\n",
        "    width = 0.9\n",
        "    fig, ax1 = plt.subplots(figsize=(12, 5))\n",
        "\n",
        "    # plot bars for min, median and mean cars price\n",
        "    rects1 = ax1.bar(x-width/2, df['50%'], width/3, label='median')\n",
        "    rects2 = ax1.bar(x-width/6, df['mean'], width/3, label='mean')\n",
        "    rects3 = ax1.bar(x+width/6, df['min'], width/3, label='min')\n",
        "\n",
        "    ax1.set_ylabel('price', fontsize=15)\n",
        "    ax1.set_title(feature, fontsize=18)\n",
        "    ax1.set_xticks(x)\n",
        "    ax1.set_xticklabels(labels, rotation=85)\n",
        "    ax1.legend()\n",
        "\n",
        "    # plot counts of data points\n",
        "    ax2 = ax1.twinx()\n",
        "    ax2.set_ylabel('Counts', fontsize=15)\n",
        "    ax2.plot(x-width/2, df['count'], color='red', linestyle='dashed')\n",
        "\n",
        "    # annotate counts of data points\n",
        "    for i, rect in enumerate(rects2):\n",
        "        height = int(round(rect.get_height()))\n",
        "        ax1.annotate('{}'.format(int(df['count'].iloc[i])),\n",
        "                     xy=(rect.get_x() + rect.get_width()/2, height),\n",
        "                     xytext=(0, 3), textcoords=\"offset points\",\n",
        "                     ha='center', va='bottom', color='red')\n",
        "    plt.show()"
      ],
      "execution_count": null,
      "outputs": []
    },
    {
      "cell_type": "code",
      "metadata": {
        "colab": {
          "base_uri": "https://localhost:8080/",
          "height": 1000
        },
        "id": "23udJtM2Jv6S",
        "outputId": "f5b60d68-0e8a-4a79-9fbc-fac6822c5bfb"
      },
      "source": [
        "for feature in ['model','transmission', 'fuelType']:\n",
        "    plot_categorical(feature)"
      ],
      "execution_count": null,
      "outputs": [
        {
          "output_type": "display_data",
          "data": {
            "image/png": "[encoded data removed]",
            "text/plain": [
              "<Figure size 864x360 with 2 Axes>"
            ]
          },
          "metadata": {
            "tags": []
          }
        },
        {
          "output_type": "display_data",
          "data": {
            "image/png": "[encoded data removed]",
            "text/plain": [
              "<Figure size 864x360 with 2 Axes>"
            ]
          },
          "metadata": {
            "tags": []
          }
        },
        {
          "output_type": "display_data",
          "data": {
            "image/png": "[encoded data removed]",
            "text/plain": [
              "<Figure size 864x360 with 2 Axes>"
            ]
          },
          "metadata": {
            "tags": []
          }
        }
      ]
    },
    {
      "cell_type": "markdown",
      "metadata": {
        "id": "5UgJqFvVBK0e"
      },
      "source": [
        "# Analysis and Data Prerocessing"
      ]
    },
    {
      "cell_type": "code",
      "metadata": {
        "id": "5cJ0eVnd_i_2"
      },
      "source": [
        "from sklearn import preprocessing\n",
        "\n",
        "encode = preprocessing.LabelEncoder()\n",
        "\n",
        "encode.fit(data.transmission.drop_duplicates())\n",
        "data.transmission = encode.transform(data.transmission)\n",
        "\n",
        "encode.fit(data.fuelType.drop_duplicates())\n",
        "data.fuelType = encode.transform(data.fuelType)\n",
        "\n",
        "encode.fit(data.model.drop_duplicates())\n",
        "data.model = encode.transform(data.model)"
      ],
      "execution_count": null,
      "outputs": []
    },
    {
      "cell_type": "code",
      "metadata": {
        "colab": {
          "base_uri": "https://localhost:8080/"
        },
        "id": "YcTCSuZMAelP",
        "outputId": "b1ef9dbc-7008-412d-f162-8ae312e191c1"
      },
      "source": [
        "data.info()"
      ],
      "execution_count": null,
      "outputs": [
        {
          "output_type": "stream",
          "text": [
            "<class 'pandas.core.frame.DataFrame'>\n",
            "RangeIndex: 17965 entries, 0 to 17964\n",
            "Data columns (total 9 columns):\n",
            " #   Column        Non-Null Count  Dtype  \n",
            "---  ------        --------------  -----  \n",
            " 0   model         17965 non-null  int64  \n",
            " 1   year          17965 non-null  int64  \n",
            " 2   price         17965 non-null  int64  \n",
            " 3   transmission  17965 non-null  int64  \n",
            " 4   mileage       17965 non-null  int64  \n",
            " 5   fuelType      17965 non-null  int64  \n",
            " 6   tax           17965 non-null  int64  \n",
            " 7   mpg           17965 non-null  float64\n",
            " 8   engineSize    17965 non-null  float64\n",
            "dtypes: float64(2), int64(7)\n",
            "memory usage: 1.2 MB\n"
          ],
          "name": "stdout"
        }
      ]
    },
    {
      "cell_type": "code",
      "metadata": {
        "colab": {
          "base_uri": "https://localhost:8080/",
          "height": 408
        },
        "id": "MsqLC3CftKrt",
        "outputId": "3729bff4-28c0-42e1-bdd3-3f39763eab24"
      },
      "source": [
        "data"
      ],
      "execution_count": null,
      "outputs": [
        {
          "output_type": "execute_result",
          "data": {
            "text/html": [
              "<div>\n",
              "<style scoped>\n",
              "    .dataframe tbody tr th:only-of-type {\n",
              "        vertical-align: middle;\n",
              "    }\n",
              "\n",
              "    .dataframe tbody tr th {\n",
              "        vertical-align: top;\n",
              "    }\n",
              "\n",
              "    .dataframe thead th {\n",
              "        text-align: right;\n",
              "    }\n",
              "</style>\n",
              "<table border=\"1\" class=\"dataframe\">\n",
              "  <thead>\n",
              "    <tr style=\"text-align: right;\">\n",
              "      <th></th>\n",
              "      <th>model</th>\n",
              "      <th>year</th>\n",
              "      <th>price</th>\n",
              "      <th>transmission</th>\n",
              "      <th>mileage</th>\n",
              "      <th>fuelType</th>\n",
              "      <th>tax</th>\n",
              "      <th>mpg</th>\n",
              "      <th>engineSize</th>\n",
              "    </tr>\n",
              "  </thead>\n",
              "  <tbody>\n",
              "    <tr>\n",
              "      <th>0</th>\n",
              "      <td>5</td>\n",
              "      <td>2017</td>\n",
              "      <td>12000</td>\n",
              "      <td>0</td>\n",
              "      <td>15944</td>\n",
              "      <td>4</td>\n",
              "      <td>150</td>\n",
              "      <td>57.7</td>\n",
              "      <td>1.0</td>\n",
              "    </tr>\n",
              "    <tr>\n",
              "      <th>1</th>\n",
              "      <td>6</td>\n",
              "      <td>2018</td>\n",
              "      <td>14000</td>\n",
              "      <td>1</td>\n",
              "      <td>9083</td>\n",
              "      <td>4</td>\n",
              "      <td>150</td>\n",
              "      <td>57.7</td>\n",
              "      <td>1.0</td>\n",
              "    </tr>\n",
              "    <tr>\n",
              "      <th>2</th>\n",
              "      <td>6</td>\n",
              "      <td>2017</td>\n",
              "      <td>13000</td>\n",
              "      <td>1</td>\n",
              "      <td>12456</td>\n",
              "      <td>4</td>\n",
              "      <td>150</td>\n",
              "      <td>57.7</td>\n",
              "      <td>1.0</td>\n",
              "    </tr>\n",
              "    <tr>\n",
              "      <th>3</th>\n",
              "      <td>5</td>\n",
              "      <td>2019</td>\n",
              "      <td>17500</td>\n",
              "      <td>1</td>\n",
              "      <td>10460</td>\n",
              "      <td>4</td>\n",
              "      <td>145</td>\n",
              "      <td>40.3</td>\n",
              "      <td>1.5</td>\n",
              "    </tr>\n",
              "    <tr>\n",
              "      <th>4</th>\n",
              "      <td>5</td>\n",
              "      <td>2019</td>\n",
              "      <td>16500</td>\n",
              "      <td>0</td>\n",
              "      <td>1482</td>\n",
              "      <td>4</td>\n",
              "      <td>145</td>\n",
              "      <td>48.7</td>\n",
              "      <td>1.0</td>\n",
              "    </tr>\n",
              "    <tr>\n",
              "      <th>...</th>\n",
              "      <td>...</td>\n",
              "      <td>...</td>\n",
              "      <td>...</td>\n",
              "      <td>...</td>\n",
              "      <td>...</td>\n",
              "      <td>...</td>\n",
              "      <td>...</td>\n",
              "      <td>...</td>\n",
              "      <td>...</td>\n",
              "    </tr>\n",
              "    <tr>\n",
              "      <th>17960</th>\n",
              "      <td>5</td>\n",
              "      <td>2016</td>\n",
              "      <td>7999</td>\n",
              "      <td>1</td>\n",
              "      <td>31348</td>\n",
              "      <td>4</td>\n",
              "      <td>125</td>\n",
              "      <td>54.3</td>\n",
              "      <td>1.2</td>\n",
              "    </tr>\n",
              "    <tr>\n",
              "      <th>17961</th>\n",
              "      <td>0</td>\n",
              "      <td>2017</td>\n",
              "      <td>8999</td>\n",
              "      <td>1</td>\n",
              "      <td>16700</td>\n",
              "      <td>4</td>\n",
              "      <td>150</td>\n",
              "      <td>47.1</td>\n",
              "      <td>1.4</td>\n",
              "    </tr>\n",
              "    <tr>\n",
              "      <th>17962</th>\n",
              "      <td>0</td>\n",
              "      <td>2014</td>\n",
              "      <td>7499</td>\n",
              "      <td>1</td>\n",
              "      <td>40700</td>\n",
              "      <td>4</td>\n",
              "      <td>30</td>\n",
              "      <td>57.7</td>\n",
              "      <td>1.0</td>\n",
              "    </tr>\n",
              "    <tr>\n",
              "      <th>17963</th>\n",
              "      <td>6</td>\n",
              "      <td>2015</td>\n",
              "      <td>9999</td>\n",
              "      <td>1</td>\n",
              "      <td>7010</td>\n",
              "      <td>0</td>\n",
              "      <td>20</td>\n",
              "      <td>67.3</td>\n",
              "      <td>1.6</td>\n",
              "    </tr>\n",
              "    <tr>\n",
              "      <th>17964</th>\n",
              "      <td>11</td>\n",
              "      <td>2018</td>\n",
              "      <td>8299</td>\n",
              "      <td>1</td>\n",
              "      <td>5007</td>\n",
              "      <td>4</td>\n",
              "      <td>145</td>\n",
              "      <td>57.7</td>\n",
              "      <td>1.2</td>\n",
              "    </tr>\n",
              "  </tbody>\n",
              "</table>\n",
              "<p>17965 rows × 9 columns</p>\n",
              "</div>"
            ],
            "text/plain": [
              "       model  year  price  transmission  ...  fuelType  tax   mpg  engineSize\n",
              "0          5  2017  12000             0  ...         4  150  57.7         1.0\n",
              "1          6  2018  14000             1  ...         4  150  57.7         1.0\n",
              "2          6  2017  13000             1  ...         4  150  57.7         1.0\n",
              "3          5  2019  17500             1  ...         4  145  40.3         1.5\n",
              "4          5  2019  16500             0  ...         4  145  48.7         1.0\n",
              "...      ...   ...    ...           ...  ...       ...  ...   ...         ...\n",
              "17960      5  2016   7999             1  ...         4  125  54.3         1.2\n",
              "17961      0  2017   8999             1  ...         4  150  47.1         1.4\n",
              "17962      0  2014   7499             1  ...         4   30  57.7         1.0\n",
              "17963      6  2015   9999             1  ...         0   20  67.3         1.6\n",
              "17964     11  2018   8299             1  ...         4  145  57.7         1.2\n",
              "\n",
              "[17965 rows x 9 columns]"
            ]
          },
          "metadata": {
            "tags": []
          },
          "execution_count": 7
        }
      ]
    },
    {
      "cell_type": "code",
      "metadata": {
        "colab": {
          "base_uri": "https://localhost:8080/",
          "height": 320
        },
        "id": "XasM2Nf7AWDO",
        "outputId": "6f2ba2a2-1341-4313-9efd-5011d837c45d"
      },
      "source": [
        "data.corr()"
      ],
      "execution_count": null,
      "outputs": [
        {
          "output_type": "execute_result",
          "data": {
            "text/html": [
              "<div>\n",
              "<style scoped>\n",
              "    .dataframe tbody tr th:only-of-type {\n",
              "        vertical-align: middle;\n",
              "    }\n",
              "\n",
              "    .dataframe tbody tr th {\n",
              "        vertical-align: top;\n",
              "    }\n",
              "\n",
              "    .dataframe thead th {\n",
              "        text-align: right;\n",
              "    }\n",
              "</style>\n",
              "<table border=\"1\" class=\"dataframe\">\n",
              "  <thead>\n",
              "    <tr style=\"text-align: right;\">\n",
              "      <th></th>\n",
              "      <th>model</th>\n",
              "      <th>year</th>\n",
              "      <th>price</th>\n",
              "      <th>transmission</th>\n",
              "      <th>mileage</th>\n",
              "      <th>fuelType</th>\n",
              "      <th>tax</th>\n",
              "      <th>mpg</th>\n",
              "      <th>engineSize</th>\n",
              "    </tr>\n",
              "  </thead>\n",
              "  <tbody>\n",
              "    <tr>\n",
              "      <th>model</th>\n",
              "      <td>1.000000</td>\n",
              "      <td>0.030460</td>\n",
              "      <td>0.315072</td>\n",
              "      <td>-0.063433</td>\n",
              "      <td>0.079013</td>\n",
              "      <td>-0.389039</td>\n",
              "      <td>0.183914</td>\n",
              "      <td>-0.222055</td>\n",
              "      <td>0.500782</td>\n",
              "    </tr>\n",
              "    <tr>\n",
              "      <th>year</th>\n",
              "      <td>0.030460</td>\n",
              "      <td>1.000000</td>\n",
              "      <td>0.635994</td>\n",
              "      <td>-0.017119</td>\n",
              "      <td>-0.707899</td>\n",
              "      <td>0.087992</td>\n",
              "      <td>0.298457</td>\n",
              "      <td>-0.022969</td>\n",
              "      <td>-0.137358</td>\n",
              "    </tr>\n",
              "    <tr>\n",
              "      <th>price</th>\n",
              "      <td>0.315072</td>\n",
              "      <td>0.635994</td>\n",
              "      <td>1.000000</td>\n",
              "      <td>-0.058033</td>\n",
              "      <td>-0.530727</td>\n",
              "      <td>-0.202829</td>\n",
              "      <td>0.406821</td>\n",
              "      <td>-0.346427</td>\n",
              "      <td>0.411156</td>\n",
              "    </tr>\n",
              "    <tr>\n",
              "      <th>transmission</th>\n",
              "      <td>-0.063433</td>\n",
              "      <td>-0.017119</td>\n",
              "      <td>-0.058033</td>\n",
              "      <td>1.000000</td>\n",
              "      <td>0.016651</td>\n",
              "      <td>-0.005118</td>\n",
              "      <td>-0.053305</td>\n",
              "      <td>0.056084</td>\n",
              "      <td>-0.026485</td>\n",
              "    </tr>\n",
              "    <tr>\n",
              "      <th>mileage</th>\n",
              "      <td>0.079013</td>\n",
              "      <td>-0.707899</td>\n",
              "      <td>-0.530727</td>\n",
              "      <td>0.016651</td>\n",
              "      <td>1.000000</td>\n",
              "      <td>-0.257531</td>\n",
              "      <td>-0.260550</td>\n",
              "      <td>0.120077</td>\n",
              "      <td>0.215001</td>\n",
              "    </tr>\n",
              "    <tr>\n",
              "      <th>fuelType</th>\n",
              "      <td>-0.389039</td>\n",
              "      <td>0.087992</td>\n",
              "      <td>-0.202829</td>\n",
              "      <td>-0.005118</td>\n",
              "      <td>-0.257531</td>\n",
              "      <td>1.000000</td>\n",
              "      <td>0.129652</td>\n",
              "      <td>-0.297799</td>\n",
              "      <td>-0.644609</td>\n",
              "    </tr>\n",
              "    <tr>\n",
              "      <th>tax</th>\n",
              "      <td>0.183914</td>\n",
              "      <td>0.298457</td>\n",
              "      <td>0.406821</td>\n",
              "      <td>-0.053305</td>\n",
              "      <td>-0.260550</td>\n",
              "      <td>0.129652</td>\n",
              "      <td>1.000000</td>\n",
              "      <td>-0.503013</td>\n",
              "      <td>0.184311</td>\n",
              "    </tr>\n",
              "    <tr>\n",
              "      <th>mpg</th>\n",
              "      <td>-0.222055</td>\n",
              "      <td>-0.022969</td>\n",
              "      <td>-0.346427</td>\n",
              "      <td>0.056084</td>\n",
              "      <td>0.120077</td>\n",
              "      <td>-0.297799</td>\n",
              "      <td>-0.503013</td>\n",
              "      <td>1.000000</td>\n",
              "      <td>-0.260527</td>\n",
              "    </tr>\n",
              "    <tr>\n",
              "      <th>engineSize</th>\n",
              "      <td>0.500782</td>\n",
              "      <td>-0.137358</td>\n",
              "      <td>0.411156</td>\n",
              "      <td>-0.026485</td>\n",
              "      <td>0.215001</td>\n",
              "      <td>-0.644609</td>\n",
              "      <td>0.184311</td>\n",
              "      <td>-0.260527</td>\n",
              "      <td>1.000000</td>\n",
              "    </tr>\n",
              "  </tbody>\n",
              "</table>\n",
              "</div>"
            ],
            "text/plain": [
              "                 model      year     price  ...       tax       mpg  engineSize\n",
              "model         1.000000  0.030460  0.315072  ...  0.183914 -0.222055    0.500782\n",
              "year          0.030460  1.000000  0.635994  ...  0.298457 -0.022969   -0.137358\n",
              "price         0.315072  0.635994  1.000000  ...  0.406821 -0.346427    0.411156\n",
              "transmission -0.063433 -0.017119 -0.058033  ... -0.053305  0.056084   -0.026485\n",
              "mileage       0.079013 -0.707899 -0.530727  ... -0.260550  0.120077    0.215001\n",
              "fuelType     -0.389039  0.087992 -0.202829  ...  0.129652 -0.297799   -0.644609\n",
              "tax           0.183914  0.298457  0.406821  ...  1.000000 -0.503013    0.184311\n",
              "mpg          -0.222055 -0.022969 -0.346427  ... -0.503013  1.000000   -0.260527\n",
              "engineSize    0.500782 -0.137358  0.411156  ...  0.184311 -0.260527    1.000000\n",
              "\n",
              "[9 rows x 9 columns]"
            ]
          },
          "metadata": {
            "tags": []
          },
          "execution_count": 8
        }
      ]
    },
    {
      "cell_type": "code",
      "metadata": {
        "colab": {
          "base_uri": "https://localhost:8080/",
          "height": 448
        },
        "id": "cg8dnBR_AiWW",
        "outputId": "3d365098-18ff-44dc-98d9-6548fdc65f8a"
      },
      "source": [
        "plt.figure(figsize = (8,6))\n",
        "corr = data.corr()\n",
        "sns.heatmap(corr, mask=np.zeros_like(corr, dtype=np.bool), cmap = 'vlag', square = True, annot = True)"
      ],
      "execution_count": null,
      "outputs": [
        {
          "output_type": "execute_result",
          "data": {
            "text/plain": [
              "<matplotlib.axes._subplots.AxesSubplot at 0x7f7b6ca01cd0>"
            ]
          },
          "metadata": {
            "tags": []
          },
          "execution_count": 9
        },
        {
          "output_type": "display_data",
          "data": {
            "image/png": "[encoded data removed]",
            "text/plain": [
              "<Figure size 576x432 with 2 Axes>"
            ]
          },
          "metadata": {
            "tags": [],
            "needs_background": "light"
          }
        }
      ]
    },
    {
      "cell_type": "markdown",
      "metadata": {
        "id": "uSqTUjvOVbBi"
      },
      "source": [
        "Corelasi :\n",
        "- (+) = (year,price),(price,tax),(price,engine), (modelxprice)\n",
        "- (-) = milage, mpg\n",
        "- tidak ada korelasi = transsmision,fulltype\n"
      ]
    },
    {
      "cell_type": "code",
      "metadata": {
        "colab": {
          "base_uri": "https://localhost:8080/",
          "height": 281
        },
        "id": "0HIVKTsFu9tQ",
        "outputId": "cccd7990-6053-4b64-90ce-3dc7371a332b"
      },
      "source": [
        "plt.scatter(x= \"price\", y=\"model\", data=data)\n",
        "plt.title(\"Price vs model\")\n",
        "plt.show()"
      ],
      "execution_count": null,
      "outputs": [
        {
          "output_type": "display_data",
          "data": {
            "image/png": "[encoded data removed]",
            "text/plain": [
              "<Figure size 432x288 with 1 Axes>"
            ]
          },
          "metadata": {
            "tags": [],
            "needs_background": "light"
          }
        }
      ]
    },
    {
      "cell_type": "code",
      "metadata": {
        "colab": {
          "base_uri": "https://localhost:8080/",
          "height": 281
        },
        "id": "WDFu8Hxwg-_C",
        "outputId": "fb23c360-6c0f-40cb-956f-7f5973be4d68"
      },
      "source": [
        "plt.scatter(x= \"price\", y=\"year\", data=data)\n",
        "plt.title(\"Price vs Year\")\n",
        "plt.show()"
      ],
      "execution_count": null,
      "outputs": [
        {
          "output_type": "display_data",
          "data": {
            "image/png": "[encoded data removed]",
            "text/plain": [
              "<Figure size 432x288 with 1 Axes>"
            ]
          },
          "metadata": {
            "tags": [],
            "needs_background": "light"
          }
        }
      ]
    },
    {
      "cell_type": "code",
      "metadata": {
        "colab": {
          "base_uri": "https://localhost:8080/",
          "height": 281
        },
        "id": "J3HL1a46iHv-",
        "outputId": "0f827ab6-12ca-4678-f44a-8a8cd825f365"
      },
      "source": [
        "plt.scatter(x= \"price\", y=\"tax\", data=data)\n",
        "plt.title(\"Price vs tax\")\n",
        "plt.show()"
      ],
      "execution_count": null,
      "outputs": [
        {
          "output_type": "display_data",
          "data": {
            "image/png": "[encoded data removed]",
            "text/plain": [
              "<Figure size 432x288 with 1 Axes>"
            ]
          },
          "metadata": {
            "tags": [],
            "needs_background": "light"
          }
        }
      ]
    },
    {
      "cell_type": "code",
      "metadata": {
        "colab": {
          "base_uri": "https://localhost:8080/",
          "height": 281
        },
        "id": "3wCNlIqJiUNn",
        "outputId": "de148cd2-52a8-4815-a822-60141a656bdb"
      },
      "source": [
        "plt.scatter(x= \"price\", y=\"engineSize\", data=data)\n",
        "plt.title(\"Price vs engine size\")\n",
        "plt.show()"
      ],
      "execution_count": null,
      "outputs": [
        {
          "output_type": "display_data",
          "data": {
            "image/png": "[encoded data removed]",
            "text/plain": [
              "<Figure size 432x288 with 1 Axes>"
            ]
          },
          "metadata": {
            "tags": [],
            "needs_background": "light"
          }
        }
      ]
    },
    {
      "cell_type": "code",
      "metadata": {
        "colab": {
          "base_uri": "https://localhost:8080/",
          "height": 281
        },
        "id": "gP2NTA2zinLK",
        "outputId": "cf713001-38c6-41e6-dd22-5727db6e2976"
      },
      "source": [
        "plt.scatter(x= \"price\", y=\"mpg\", data=data)\n",
        "plt.title(\"Price vs mpg\")\n",
        "plt.show()"
      ],
      "execution_count": null,
      "outputs": [
        {
          "output_type": "display_data",
          "data": {
            "image/png": "[encoded data removed]",
            "text/plain": [
              "<Figure size 432x288 with 1 Axes>"
            ]
          },
          "metadata": {
            "tags": [],
            "needs_background": "light"
          }
        }
      ]
    },
    {
      "cell_type": "code",
      "metadata": {
        "colab": {
          "base_uri": "https://localhost:8080/",
          "height": 281
        },
        "id": "QTK-jT-GitRG",
        "outputId": "e9302938-9451-404f-ea0e-6d12c4bbd029"
      },
      "source": [
        "plt.scatter(x= \"price\", y=\"mileage\", data=data)\n",
        "plt.title(\"Price vs mileage\")\n",
        "plt.show()"
      ],
      "execution_count": null,
      "outputs": [
        {
          "output_type": "display_data",
          "data": {
            "image/png": "[encoded data removed]",
            "text/plain": [
              "<Figure size 432x288 with 1 Axes>"
            ]
          },
          "metadata": {
            "tags": [],
            "needs_background": "light"
          }
        }
      ]
    },
    {
      "cell_type": "code",
      "metadata": {
        "id": "NTRoNuE-WpOW"
      },
      "source": [
        "data1 = data.drop(columns=['fuelType','transmission'], inplace=True)\n",
        "data1"
      ],
      "execution_count": null,
      "outputs": []
    },
    {
      "cell_type": "code",
      "metadata": {
        "colab": {
          "base_uri": "https://localhost:8080/",
          "height": 408
        },
        "id": "Sld--RpTjSkX",
        "outputId": "7e2e041a-9605-470e-8671-331a0a9892d5"
      },
      "source": [
        "data1 = data\n",
        "data1"
      ],
      "execution_count": null,
      "outputs": [
        {
          "output_type": "execute_result",
          "data": {
            "text/html": [
              "<div>\n",
              "<style scoped>\n",
              "    .dataframe tbody tr th:only-of-type {\n",
              "        vertical-align: middle;\n",
              "    }\n",
              "\n",
              "    .dataframe tbody tr th {\n",
              "        vertical-align: top;\n",
              "    }\n",
              "\n",
              "    .dataframe thead th {\n",
              "        text-align: right;\n",
              "    }\n",
              "</style>\n",
              "<table border=\"1\" class=\"dataframe\">\n",
              "  <thead>\n",
              "    <tr style=\"text-align: right;\">\n",
              "      <th></th>\n",
              "      <th>model</th>\n",
              "      <th>year</th>\n",
              "      <th>price</th>\n",
              "      <th>mileage</th>\n",
              "      <th>tax</th>\n",
              "      <th>mpg</th>\n",
              "      <th>engineSize</th>\n",
              "    </tr>\n",
              "  </thead>\n",
              "  <tbody>\n",
              "    <tr>\n",
              "      <th>0</th>\n",
              "      <td>5</td>\n",
              "      <td>2017</td>\n",
              "      <td>12000</td>\n",
              "      <td>15944</td>\n",
              "      <td>150</td>\n",
              "      <td>57.7</td>\n",
              "      <td>1.0</td>\n",
              "    </tr>\n",
              "    <tr>\n",
              "      <th>1</th>\n",
              "      <td>6</td>\n",
              "      <td>2018</td>\n",
              "      <td>14000</td>\n",
              "      <td>9083</td>\n",
              "      <td>150</td>\n",
              "      <td>57.7</td>\n",
              "      <td>1.0</td>\n",
              "    </tr>\n",
              "    <tr>\n",
              "      <th>2</th>\n",
              "      <td>6</td>\n",
              "      <td>2017</td>\n",
              "      <td>13000</td>\n",
              "      <td>12456</td>\n",
              "      <td>150</td>\n",
              "      <td>57.7</td>\n",
              "      <td>1.0</td>\n",
              "    </tr>\n",
              "    <tr>\n",
              "      <th>3</th>\n",
              "      <td>5</td>\n",
              "      <td>2019</td>\n",
              "      <td>17500</td>\n",
              "      <td>10460</td>\n",
              "      <td>145</td>\n",
              "      <td>40.3</td>\n",
              "      <td>1.5</td>\n",
              "    </tr>\n",
              "    <tr>\n",
              "      <th>4</th>\n",
              "      <td>5</td>\n",
              "      <td>2019</td>\n",
              "      <td>16500</td>\n",
              "      <td>1482</td>\n",
              "      <td>145</td>\n",
              "      <td>48.7</td>\n",
              "      <td>1.0</td>\n",
              "    </tr>\n",
              "    <tr>\n",
              "      <th>...</th>\n",
              "      <td>...</td>\n",
              "      <td>...</td>\n",
              "      <td>...</td>\n",
              "      <td>...</td>\n",
              "      <td>...</td>\n",
              "      <td>...</td>\n",
              "      <td>...</td>\n",
              "    </tr>\n",
              "    <tr>\n",
              "      <th>17960</th>\n",
              "      <td>5</td>\n",
              "      <td>2016</td>\n",
              "      <td>7999</td>\n",
              "      <td>31348</td>\n",
              "      <td>125</td>\n",
              "      <td>54.3</td>\n",
              "      <td>1.2</td>\n",
              "    </tr>\n",
              "    <tr>\n",
              "      <th>17961</th>\n",
              "      <td>0</td>\n",
              "      <td>2017</td>\n",
              "      <td>8999</td>\n",
              "      <td>16700</td>\n",
              "      <td>150</td>\n",
              "      <td>47.1</td>\n",
              "      <td>1.4</td>\n",
              "    </tr>\n",
              "    <tr>\n",
              "      <th>17962</th>\n",
              "      <td>0</td>\n",
              "      <td>2014</td>\n",
              "      <td>7499</td>\n",
              "      <td>40700</td>\n",
              "      <td>30</td>\n",
              "      <td>57.7</td>\n",
              "      <td>1.0</td>\n",
              "    </tr>\n",
              "    <tr>\n",
              "      <th>17963</th>\n",
              "      <td>6</td>\n",
              "      <td>2015</td>\n",
              "      <td>9999</td>\n",
              "      <td>7010</td>\n",
              "      <td>20</td>\n",
              "      <td>67.3</td>\n",
              "      <td>1.6</td>\n",
              "    </tr>\n",
              "    <tr>\n",
              "      <th>17964</th>\n",
              "      <td>11</td>\n",
              "      <td>2018</td>\n",
              "      <td>8299</td>\n",
              "      <td>5007</td>\n",
              "      <td>145</td>\n",
              "      <td>57.7</td>\n",
              "      <td>1.2</td>\n",
              "    </tr>\n",
              "  </tbody>\n",
              "</table>\n",
              "<p>17965 rows × 7 columns</p>\n",
              "</div>"
            ],
            "text/plain": [
              "       model  year  price  mileage  tax   mpg  engineSize\n",
              "0          5  2017  12000    15944  150  57.7         1.0\n",
              "1          6  2018  14000     9083  150  57.7         1.0\n",
              "2          6  2017  13000    12456  150  57.7         1.0\n",
              "3          5  2019  17500    10460  145  40.3         1.5\n",
              "4          5  2019  16500     1482  145  48.7         1.0\n",
              "...      ...   ...    ...      ...  ...   ...         ...\n",
              "17960      5  2016   7999    31348  125  54.3         1.2\n",
              "17961      0  2017   8999    16700  150  47.1         1.4\n",
              "17962      0  2014   7499    40700   30  57.7         1.0\n",
              "17963      6  2015   9999     7010   20  67.3         1.6\n",
              "17964     11  2018   8299     5007  145  57.7         1.2\n",
              "\n",
              "[17965 rows x 7 columns]"
            ]
          },
          "metadata": {
            "tags": []
          },
          "execution_count": 11
        }
      ]
    },
    {
      "cell_type": "markdown",
      "metadata": {
        "id": "04qUg-OE8pdG"
      },
      "source": [
        "# Data Preprocessing"
      ]
    },
    {
      "cell_type": "code",
      "metadata": {
        "colab": {
          "base_uri": "https://localhost:8080/",
          "height": 408
        },
        "id": "CXfMS93kYEZZ",
        "outputId": "01a404c9-d0f1-40e7-8b3c-176e2027c7d9"
      },
      "source": [
        "nw_data = data1[['model','year','mileage','tax','mpg','engineSize','price']]\n",
        "nw_data"
      ],
      "execution_count": null,
      "outputs": [
        {
          "output_type": "execute_result",
          "data": {
            "text/html": [
              "<div>\n",
              "<style scoped>\n",
              "    .dataframe tbody tr th:only-of-type {\n",
              "        vertical-align: middle;\n",
              "    }\n",
              "\n",
              "    .dataframe tbody tr th {\n",
              "        vertical-align: top;\n",
              "    }\n",
              "\n",
              "    .dataframe thead th {\n",
              "        text-align: right;\n",
              "    }\n",
              "</style>\n",
              "<table border=\"1\" class=\"dataframe\">\n",
              "  <thead>\n",
              "    <tr style=\"text-align: right;\">\n",
              "      <th></th>\n",
              "      <th>model</th>\n",
              "      <th>year</th>\n",
              "      <th>mileage</th>\n",
              "      <th>tax</th>\n",
              "      <th>mpg</th>\n",
              "      <th>engineSize</th>\n",
              "      <th>price</th>\n",
              "    </tr>\n",
              "  </thead>\n",
              "  <tbody>\n",
              "    <tr>\n",
              "      <th>0</th>\n",
              "      <td>5</td>\n",
              "      <td>2017</td>\n",
              "      <td>15944</td>\n",
              "      <td>150</td>\n",
              "      <td>57.7</td>\n",
              "      <td>1.0</td>\n",
              "      <td>12000</td>\n",
              "    </tr>\n",
              "    <tr>\n",
              "      <th>1</th>\n",
              "      <td>6</td>\n",
              "      <td>2018</td>\n",
              "      <td>9083</td>\n",
              "      <td>150</td>\n",
              "      <td>57.7</td>\n",
              "      <td>1.0</td>\n",
              "      <td>14000</td>\n",
              "    </tr>\n",
              "    <tr>\n",
              "      <th>2</th>\n",
              "      <td>6</td>\n",
              "      <td>2017</td>\n",
              "      <td>12456</td>\n",
              "      <td>150</td>\n",
              "      <td>57.7</td>\n",
              "      <td>1.0</td>\n",
              "      <td>13000</td>\n",
              "    </tr>\n",
              "    <tr>\n",
              "      <th>3</th>\n",
              "      <td>5</td>\n",
              "      <td>2019</td>\n",
              "      <td>10460</td>\n",
              "      <td>145</td>\n",
              "      <td>40.3</td>\n",
              "      <td>1.5</td>\n",
              "      <td>17500</td>\n",
              "    </tr>\n",
              "    <tr>\n",
              "      <th>4</th>\n",
              "      <td>5</td>\n",
              "      <td>2019</td>\n",
              "      <td>1482</td>\n",
              "      <td>145</td>\n",
              "      <td>48.7</td>\n",
              "      <td>1.0</td>\n",
              "      <td>16500</td>\n",
              "    </tr>\n",
              "    <tr>\n",
              "      <th>...</th>\n",
              "      <td>...</td>\n",
              "      <td>...</td>\n",
              "      <td>...</td>\n",
              "      <td>...</td>\n",
              "      <td>...</td>\n",
              "      <td>...</td>\n",
              "      <td>...</td>\n",
              "    </tr>\n",
              "    <tr>\n",
              "      <th>17960</th>\n",
              "      <td>5</td>\n",
              "      <td>2016</td>\n",
              "      <td>31348</td>\n",
              "      <td>125</td>\n",
              "      <td>54.3</td>\n",
              "      <td>1.2</td>\n",
              "      <td>7999</td>\n",
              "    </tr>\n",
              "    <tr>\n",
              "      <th>17961</th>\n",
              "      <td>0</td>\n",
              "      <td>2017</td>\n",
              "      <td>16700</td>\n",
              "      <td>150</td>\n",
              "      <td>47.1</td>\n",
              "      <td>1.4</td>\n",
              "      <td>8999</td>\n",
              "    </tr>\n",
              "    <tr>\n",
              "      <th>17962</th>\n",
              "      <td>0</td>\n",
              "      <td>2014</td>\n",
              "      <td>40700</td>\n",
              "      <td>30</td>\n",
              "      <td>57.7</td>\n",
              "      <td>1.0</td>\n",
              "      <td>7499</td>\n",
              "    </tr>\n",
              "    <tr>\n",
              "      <th>17963</th>\n",
              "      <td>6</td>\n",
              "      <td>2015</td>\n",
              "      <td>7010</td>\n",
              "      <td>20</td>\n",
              "      <td>67.3</td>\n",
              "      <td>1.6</td>\n",
              "      <td>9999</td>\n",
              "    </tr>\n",
              "    <tr>\n",
              "      <th>17964</th>\n",
              "      <td>11</td>\n",
              "      <td>2018</td>\n",
              "      <td>5007</td>\n",
              "      <td>145</td>\n",
              "      <td>57.7</td>\n",
              "      <td>1.2</td>\n",
              "      <td>8299</td>\n",
              "    </tr>\n",
              "  </tbody>\n",
              "</table>\n",
              "<p>17965 rows × 7 columns</p>\n",
              "</div>"
            ],
            "text/plain": [
              "       model  year  mileage  tax   mpg  engineSize  price\n",
              "0          5  2017    15944  150  57.7         1.0  12000\n",
              "1          6  2018     9083  150  57.7         1.0  14000\n",
              "2          6  2017    12456  150  57.7         1.0  13000\n",
              "3          5  2019    10460  145  40.3         1.5  17500\n",
              "4          5  2019     1482  145  48.7         1.0  16500\n",
              "...      ...   ...      ...  ...   ...         ...    ...\n",
              "17960      5  2016    31348  125  54.3         1.2   7999\n",
              "17961      0  2017    16700  150  47.1         1.4   8999\n",
              "17962      0  2014    40700   30  57.7         1.0   7499\n",
              "17963      6  2015     7010   20  67.3         1.6   9999\n",
              "17964     11  2018     5007  145  57.7         1.2   8299\n",
              "\n",
              "[17965 rows x 7 columns]"
            ]
          },
          "metadata": {
            "tags": []
          },
          "execution_count": 12
        }
      ]
    },
    {
      "cell_type": "code",
      "metadata": {
        "id": "YqxSB36J7OqJ"
      },
      "source": [
        "x = nw_data.iloc[:, 0:6]\n",
        "y = nw_data.iloc[:, -1]"
      ],
      "execution_count": null,
      "outputs": []
    },
    {
      "cell_type": "code",
      "metadata": {
        "colab": {
          "base_uri": "https://localhost:8080/",
          "height": 408
        },
        "id": "B-pGMX8ZHZKo",
        "outputId": "58e35dc1-f40f-4435-87b5-d676ffda6d70"
      },
      "source": [
        "x"
      ],
      "execution_count": null,
      "outputs": [
        {
          "output_type": "execute_result",
          "data": {
            "text/html": [
              "<div>\n",
              "<style scoped>\n",
              "    .dataframe tbody tr th:only-of-type {\n",
              "        vertical-align: middle;\n",
              "    }\n",
              "\n",
              "    .dataframe tbody tr th {\n",
              "        vertical-align: top;\n",
              "    }\n",
              "\n",
              "    .dataframe thead th {\n",
              "        text-align: right;\n",
              "    }\n",
              "</style>\n",
              "<table border=\"1\" class=\"dataframe\">\n",
              "  <thead>\n",
              "    <tr style=\"text-align: right;\">\n",
              "      <th></th>\n",
              "      <th>model</th>\n",
              "      <th>year</th>\n",
              "      <th>mileage</th>\n",
              "      <th>tax</th>\n",
              "      <th>mpg</th>\n",
              "      <th>engineSize</th>\n",
              "    </tr>\n",
              "  </thead>\n",
              "  <tbody>\n",
              "    <tr>\n",
              "      <th>0</th>\n",
              "      <td>5</td>\n",
              "      <td>2017</td>\n",
              "      <td>15944</td>\n",
              "      <td>150</td>\n",
              "      <td>57.7</td>\n",
              "      <td>1.0</td>\n",
              "    </tr>\n",
              "    <tr>\n",
              "      <th>1</th>\n",
              "      <td>6</td>\n",
              "      <td>2018</td>\n",
              "      <td>9083</td>\n",
              "      <td>150</td>\n",
              "      <td>57.7</td>\n",
              "      <td>1.0</td>\n",
              "    </tr>\n",
              "    <tr>\n",
              "      <th>2</th>\n",
              "      <td>6</td>\n",
              "      <td>2017</td>\n",
              "      <td>12456</td>\n",
              "      <td>150</td>\n",
              "      <td>57.7</td>\n",
              "      <td>1.0</td>\n",
              "    </tr>\n",
              "    <tr>\n",
              "      <th>3</th>\n",
              "      <td>5</td>\n",
              "      <td>2019</td>\n",
              "      <td>10460</td>\n",
              "      <td>145</td>\n",
              "      <td>40.3</td>\n",
              "      <td>1.5</td>\n",
              "    </tr>\n",
              "    <tr>\n",
              "      <th>4</th>\n",
              "      <td>5</td>\n",
              "      <td>2019</td>\n",
              "      <td>1482</td>\n",
              "      <td>145</td>\n",
              "      <td>48.7</td>\n",
              "      <td>1.0</td>\n",
              "    </tr>\n",
              "    <tr>\n",
              "      <th>...</th>\n",
              "      <td>...</td>\n",
              "      <td>...</td>\n",
              "      <td>...</td>\n",
              "      <td>...</td>\n",
              "      <td>...</td>\n",
              "      <td>...</td>\n",
              "    </tr>\n",
              "    <tr>\n",
              "      <th>17960</th>\n",
              "      <td>5</td>\n",
              "      <td>2016</td>\n",
              "      <td>31348</td>\n",
              "      <td>125</td>\n",
              "      <td>54.3</td>\n",
              "      <td>1.2</td>\n",
              "    </tr>\n",
              "    <tr>\n",
              "      <th>17961</th>\n",
              "      <td>0</td>\n",
              "      <td>2017</td>\n",
              "      <td>16700</td>\n",
              "      <td>150</td>\n",
              "      <td>47.1</td>\n",
              "      <td>1.4</td>\n",
              "    </tr>\n",
              "    <tr>\n",
              "      <th>17962</th>\n",
              "      <td>0</td>\n",
              "      <td>2014</td>\n",
              "      <td>40700</td>\n",
              "      <td>30</td>\n",
              "      <td>57.7</td>\n",
              "      <td>1.0</td>\n",
              "    </tr>\n",
              "    <tr>\n",
              "      <th>17963</th>\n",
              "      <td>6</td>\n",
              "      <td>2015</td>\n",
              "      <td>7010</td>\n",
              "      <td>20</td>\n",
              "      <td>67.3</td>\n",
              "      <td>1.6</td>\n",
              "    </tr>\n",
              "    <tr>\n",
              "      <th>17964</th>\n",
              "      <td>11</td>\n",
              "      <td>2018</td>\n",
              "      <td>5007</td>\n",
              "      <td>145</td>\n",
              "      <td>57.7</td>\n",
              "      <td>1.2</td>\n",
              "    </tr>\n",
              "  </tbody>\n",
              "</table>\n",
              "<p>17965 rows × 6 columns</p>\n",
              "</div>"
            ],
            "text/plain": [
              "       model  year  mileage  tax   mpg  engineSize\n",
              "0          5  2017    15944  150  57.7         1.0\n",
              "1          6  2018     9083  150  57.7         1.0\n",
              "2          6  2017    12456  150  57.7         1.0\n",
              "3          5  2019    10460  145  40.3         1.5\n",
              "4          5  2019     1482  145  48.7         1.0\n",
              "...      ...   ...      ...  ...   ...         ...\n",
              "17960      5  2016    31348  125  54.3         1.2\n",
              "17961      0  2017    16700  150  47.1         1.4\n",
              "17962      0  2014    40700   30  57.7         1.0\n",
              "17963      6  2015     7010   20  67.3         1.6\n",
              "17964     11  2018     5007  145  57.7         1.2\n",
              "\n",
              "[17965 rows x 6 columns]"
            ]
          },
          "metadata": {
            "tags": []
          },
          "execution_count": 14
        }
      ]
    },
    {
      "cell_type": "code",
      "metadata": {
        "colab": {
          "base_uri": "https://localhost:8080/",
          "height": 408
        },
        "id": "PmX85EcnK-Eq",
        "outputId": "e6b5e94c-93f7-4558-bf56-c10eb073cd88"
      },
      "source": [
        "y=pd.DataFrame(y)\n",
        "y"
      ],
      "execution_count": null,
      "outputs": [
        {
          "output_type": "execute_result",
          "data": {
            "text/html": [
              "<div>\n",
              "<style scoped>\n",
              "    .dataframe tbody tr th:only-of-type {\n",
              "        vertical-align: middle;\n",
              "    }\n",
              "\n",
              "    .dataframe tbody tr th {\n",
              "        vertical-align: top;\n",
              "    }\n",
              "\n",
              "    .dataframe thead th {\n",
              "        text-align: right;\n",
              "    }\n",
              "</style>\n",
              "<table border=\"1\" class=\"dataframe\">\n",
              "  <thead>\n",
              "    <tr style=\"text-align: right;\">\n",
              "      <th></th>\n",
              "      <th>price</th>\n",
              "    </tr>\n",
              "  </thead>\n",
              "  <tbody>\n",
              "    <tr>\n",
              "      <th>0</th>\n",
              "      <td>12000</td>\n",
              "    </tr>\n",
              "    <tr>\n",
              "      <th>1</th>\n",
              "      <td>14000</td>\n",
              "    </tr>\n",
              "    <tr>\n",
              "      <th>2</th>\n",
              "      <td>13000</td>\n",
              "    </tr>\n",
              "    <tr>\n",
              "      <th>3</th>\n",
              "      <td>17500</td>\n",
              "    </tr>\n",
              "    <tr>\n",
              "      <th>4</th>\n",
              "      <td>16500</td>\n",
              "    </tr>\n",
              "    <tr>\n",
              "      <th>...</th>\n",
              "      <td>...</td>\n",
              "    </tr>\n",
              "    <tr>\n",
              "      <th>17960</th>\n",
              "      <td>7999</td>\n",
              "    </tr>\n",
              "    <tr>\n",
              "      <th>17961</th>\n",
              "      <td>8999</td>\n",
              "    </tr>\n",
              "    <tr>\n",
              "      <th>17962</th>\n",
              "      <td>7499</td>\n",
              "    </tr>\n",
              "    <tr>\n",
              "      <th>17963</th>\n",
              "      <td>9999</td>\n",
              "    </tr>\n",
              "    <tr>\n",
              "      <th>17964</th>\n",
              "      <td>8299</td>\n",
              "    </tr>\n",
              "  </tbody>\n",
              "</table>\n",
              "<p>17965 rows × 1 columns</p>\n",
              "</div>"
            ],
            "text/plain": [
              "       price\n",
              "0      12000\n",
              "1      14000\n",
              "2      13000\n",
              "3      17500\n",
              "4      16500\n",
              "...      ...\n",
              "17960   7999\n",
              "17961   8999\n",
              "17962   7499\n",
              "17963   9999\n",
              "17964   8299\n",
              "\n",
              "[17965 rows x 1 columns]"
            ]
          },
          "metadata": {
            "tags": []
          },
          "execution_count": 15
        }
      ]
    },
    {
      "cell_type": "markdown",
      "metadata": {
        "id": "NT0s4N3O_heF"
      },
      "source": [
        "# Building Model and Result Model"
      ]
    },
    {
      "cell_type": "code",
      "metadata": {
        "colab": {
          "base_uri": "https://localhost:8080/"
        },
        "id": "h77zVOId8UBE",
        "outputId": "01e21a19-8075-47a5-e3a8-aea2ab71309f"
      },
      "source": [
        "# percobaan 1\n",
        "from sklearn.model_selection import train_test_split\n",
        "\n",
        "xTrain, xTest, yTrain, yTest = train_test_split(x,y, test_size = 0.2, random_state = 0)\n",
        "\n",
        "print(\"=======================percobaan 1=======================\")\n",
        "print(\"Data train x :\",xTrain.shape,\" Data Test x: \", xTest.shape)\n",
        "print(\"Data Train y: \",yTrain.shape,\" Data Test y: \", yTest.shape)\n",
        "print(\" \")\n"
      ],
      "execution_count": null,
      "outputs": [
        {
          "output_type": "stream",
          "text": [
            "=======================percobaan 1=======================\n",
            "Data train x : (14372, 6)  Data Test x:  (3593, 6)\n",
            "Data Train y:  (14372, 1)  Data Test y:  (3593, 1)\n",
            " \n"
          ],
          "name": "stdout"
        }
      ]
    },
    {
      "cell_type": "code",
      "metadata": {
        "colab": {
          "base_uri": "https://localhost:8080/",
          "height": 282
        },
        "id": "el7vM0IfJ78P",
        "outputId": "83875691-771a-41e9-dd59-63773476c2df"
      },
      "source": [
        "# data was will train\n",
        "plt.scatter(xTrain.iloc[:,5], xTrain.iloc[:, 1], cmap='winter')"
      ],
      "execution_count": null,
      "outputs": [
        {
          "output_type": "execute_result",
          "data": {
            "text/plain": [
              "<matplotlib.collections.PathCollection at 0x7f55ea993850>"
            ]
          },
          "metadata": {
            "tags": []
          },
          "execution_count": 32
        },
        {
          "output_type": "display_data",
          "data": {
            "image/png": "[encoded data removed]",
            "text/plain": [
              "<Figure size 432x288 with 1 Axes>"
            ]
          },
          "metadata": {
            "tags": [],
            "needs_background": "light"
          }
        }
      ]
    },
    {
      "cell_type": "code",
      "metadata": {
        "colab": {
          "base_uri": "https://localhost:8080/"
        },
        "id": "u01vZ1KuD-uf",
        "outputId": "9f18af60-0bba-43dd-842e-acb6cfa4374d"
      },
      "source": [
        "# model linear regression\n",
        "\n",
        "from sklearn import linear_model\n",
        "from sklearn.linear_model import LinearRegression\n",
        "\n",
        "\n",
        "lr = LinearRegression()\n",
        "lr.fit(xTrain, yTrain)\n"
      ],
      "execution_count": null,
      "outputs": [
        {
          "output_type": "execute_result",
          "data": {
            "text/plain": [
              "LinearRegression(copy_X=True, fit_intercept=True, n_jobs=None, normalize=False)"
            ]
          },
          "metadata": {
            "tags": []
          },
          "execution_count": 17
        }
      ]
    },
    {
      "cell_type": "code",
      "metadata": {
        "colab": {
          "base_uri": "https://localhost:8080/"
        },
        "id": "EPND30f-NH0P",
        "outputId": "48fd236a-aacf-4fd0-85d7-e0cd69374dbc"
      },
      "source": [
        "# score model linear regression\n",
        "pred = lr.predict(xTest)\n",
        "print('Linear Regression Score: ', lr.score(xTest,yTest))"
      ],
      "execution_count": null,
      "outputs": [
        {
          "output_type": "stream",
          "text": [
            "Linear Regression Score:  0.7393091730478669\n"
          ],
          "name": "stdout"
        }
      ]
    },
    {
      "cell_type": "code",
      "metadata": {
        "colab": {
          "base_uri": "https://localhost:8080/"
        },
        "id": "jocjG5ZLKs3z",
        "outputId": "6f499a3d-7d84-477a-d7b6-2928fdb9fc7d"
      },
      "source": [
        "print(\"intercept : \", lr.intercept_)\n",
        "print(\"Slop/Koefesien : \",lr.coef_)"
      ],
      "execution_count": null,
      "outputs": [
        {
          "output_type": "stream",
          "text": [
            "intercept :  [-2333772.24787723]\n",
            "Slop/Koefesien :  [[ 5.70507433e+01  1.16254912e+03 -6.17806808e-02  7.65152095e-01\n",
            "  -7.78601197e+01  5.04369459e+03]]\n"
          ],
          "name": "stdout"
        }
      ]
    },
    {
      "cell_type": "code",
      "metadata": {
        "id": "4BnClgMu-G8o",
        "colab": {
          "base_uri": "https://localhost:8080/"
        },
        "outputId": "5bb4150c-8707-41c0-cbed-7eed66178d8b"
      },
      "source": [
        "print(pred)"
      ],
      "execution_count": null,
      "outputs": [
        {
          "output_type": "stream",
          "text": [
            "[[11670.23987821]\n",
            " [10555.58403924]\n",
            " [12665.91544267]\n",
            " ...\n",
            " [11762.65033933]\n",
            " [12668.34754063]\n",
            " [ 4908.54023474]]\n"
          ],
          "name": "stdout"
        }
      ]
    },
    {
      "cell_type": "code",
      "metadata": {
        "colab": {
          "base_uri": "https://localhost:8080/"
        },
        "id": "5_dElkHzLdLy",
        "outputId": "1d5c6d7f-77ab-4e80-ba40-8930e2b186a0"
      },
      "source": [
        "print(pred.round(decimals=-1))"
      ],
      "execution_count": null,
      "outputs": [
        {
          "output_type": "stream",
          "text": [
            "[[11670.]\n",
            " [10560.]\n",
            " [12670.]\n",
            " ...\n",
            " [11760.]\n",
            " [12670.]\n",
            " [ 4910.]]\n"
          ],
          "name": "stdout"
        }
      ]
    },
    {
      "cell_type": "code",
      "metadata": {
        "colab": {
          "base_uri": "https://localhost:8080/",
          "height": 424
        },
        "id": "nNAGMygCkyzS",
        "outputId": "28ccc02c-58f1-47bd-a9f7-18a1687f9a35"
      },
      "source": [
        "dat= pd.DataFrame(pred)\n",
        "dat.replace"
      ],
      "execution_count": null,
      "outputs": [
        {
          "output_type": "execute_result",
          "data": {
            "text/html": [
              "<div>\n",
              "<style scoped>\n",
              "    .dataframe tbody tr th:only-of-type {\n",
              "        vertical-align: middle;\n",
              "    }\n",
              "\n",
              "    .dataframe tbody tr th {\n",
              "        vertical-align: top;\n",
              "    }\n",
              "\n",
              "    .dataframe thead th {\n",
              "        text-align: right;\n",
              "    }\n",
              "</style>\n",
              "<table border=\"1\" class=\"dataframe\">\n",
              "  <thead>\n",
              "    <tr style=\"text-align: right;\">\n",
              "      <th></th>\n",
              "      <th>0</th>\n",
              "    </tr>\n",
              "  </thead>\n",
              "  <tbody>\n",
              "    <tr>\n",
              "      <th>0</th>\n",
              "      <td>11670.239878</td>\n",
              "    </tr>\n",
              "    <tr>\n",
              "      <th>1</th>\n",
              "      <td>10555.584039</td>\n",
              "    </tr>\n",
              "    <tr>\n",
              "      <th>2</th>\n",
              "      <td>12665.915443</td>\n",
              "    </tr>\n",
              "    <tr>\n",
              "      <th>3</th>\n",
              "      <td>14515.925655</td>\n",
              "    </tr>\n",
              "    <tr>\n",
              "      <th>4</th>\n",
              "      <td>16363.888661</td>\n",
              "    </tr>\n",
              "    <tr>\n",
              "      <th>...</th>\n",
              "      <td>...</td>\n",
              "    </tr>\n",
              "    <tr>\n",
              "      <th>3588</th>\n",
              "      <td>12766.971191</td>\n",
              "    </tr>\n",
              "    <tr>\n",
              "      <th>3589</th>\n",
              "      <td>13949.207268</td>\n",
              "    </tr>\n",
              "    <tr>\n",
              "      <th>3590</th>\n",
              "      <td>11762.650339</td>\n",
              "    </tr>\n",
              "    <tr>\n",
              "      <th>3591</th>\n",
              "      <td>12668.347541</td>\n",
              "    </tr>\n",
              "    <tr>\n",
              "      <th>3592</th>\n",
              "      <td>4908.540235</td>\n",
              "    </tr>\n",
              "  </tbody>\n",
              "</table>\n",
              "<p>3593 rows × 1 columns</p>\n",
              "</div>"
            ],
            "text/plain": [
              "                 0\n",
              "0     11670.239878\n",
              "1     10555.584039\n",
              "2     12665.915443\n",
              "3     14515.925655\n",
              "4     16363.888661\n",
              "...            ...\n",
              "3588  12766.971191\n",
              "3589  13949.207268\n",
              "3590  11762.650339\n",
              "3591  12668.347541\n",
              "3592   4908.540235\n",
              "\n",
              "[3593 rows x 1 columns]"
            ]
          },
          "metadata": {
            "tags": []
          },
          "execution_count": 38
        }
      ]
    },
    {
      "cell_type": "markdown",
      "metadata": {
        "id": "XOAbUysCDtLm"
      },
      "source": [
        "# Validasi Model"
      ]
    },
    {
      "cell_type": "code",
      "metadata": {
        "id": "HYMTQ1JHDKqW"
      },
      "source": [
        "import statsmodels\n",
        "import statsmodels.api as sm\n",
        "import statsmodels.formula.api as smf\n",
        "import statsmodels.stats.api as sms\n",
        "from statsmodels.compat import lzip"
      ],
      "execution_count": null,
      "outputs": []
    },
    {
      "cell_type": "code",
      "metadata": {
        "colab": {
          "base_uri": "https://localhost:8080/"
        },
        "id": "PcjJexTGC9tX",
        "outputId": "1b2bf0a1-587a-4c3b-d374-3ab086115b7d"
      },
      "source": [
        "X = nw_data[['model','year','mileage','tax','mpg','engineSize']]\n",
        "X = sm.add_constant(X) # adding a constant\n",
        "\n",
        "olsmod = sm.OLS(nw_data['price'], X).fit()\n",
        "print(olsmod.summary())"
      ],
      "execution_count": null,
      "outputs": [
        {
          "output_type": "stream",
          "text": [
            "                            OLS Regression Results                            \n",
            "==============================================================================\n",
            "Dep. Variable:                  price   R-squared:                       0.728\n",
            "Model:                            OLS   Adj. R-squared:                  0.728\n",
            "Method:                 Least Squares   F-statistic:                     8021.\n",
            "Date:                Thu, 01 Jul 2021   Prob (F-statistic):               0.00\n",
            "Time:                        15:36:10   Log-Likelihood:            -1.6584e+05\n",
            "No. Observations:               17965   AIC:                         3.317e+05\n",
            "Df Residuals:                   17958   BIC:                         3.318e+05\n",
            "Df Model:                           6                                         \n",
            "Covariance Type:            nonrobust                                         \n",
            "==============================================================================\n",
            "                 coef    std err          t      P>|t|      [0.025      0.975]\n",
            "------------------------------------------------------------------------------\n",
            "const      -2.409e+06   2.68e+04    -89.896      0.000   -2.46e+06   -2.36e+06\n",
            "model         54.2374      5.402     10.041      0.000      43.650      64.825\n",
            "year        1200.0592     13.297     90.251      0.000    1173.996    1226.122\n",
            "mileage       -0.0596      0.001    -42.705      0.000      -0.062      -0.057\n",
            "tax            0.6698      0.368      1.821      0.069      -0.051       1.391\n",
            "mpg          -79.1395      2.205    -35.891      0.000     -83.461     -74.818\n",
            "engineSize  5114.7897     51.761     98.816      0.000    5013.333    5216.246\n",
            "==============================================================================\n",
            "Omnibus:                     4585.199   Durbin-Watson:                   1.773\n",
            "Prob(Omnibus):                  0.000   Jarque-Bera (JB):           363828.870\n",
            "Skew:                           0.108   Prob(JB):                         0.00\n",
            "Kurtosis:                      25.045   Cond. No.                     4.43e+07\n",
            "==============================================================================\n",
            "\n",
            "Warnings:\n",
            "[1] Standard Errors assume that the covariance matrix of the errors is correctly specified.\n",
            "[2] The condition number is large, 4.43e+07. This might indicate that there are\n",
            "strong multicollinearity or other numerical problems.\n"
          ],
          "name": "stdout"
        }
      ]
    },
    {
      "cell_type": "code",
      "metadata": {
        "colab": {
          "base_uri": "https://localhost:8080/",
          "height": 408
        },
        "id": "g4Eer8wZcaMd",
        "outputId": "eff47b79-f3d4-48c3-a611-5fe22d2fe907"
      },
      "source": [
        "nw_data['car_price_pred'] = olsmod.predict(X)\n",
        "nw_data['residual'] = olsmod.resid\n",
        "nw_data.head()"
      ],
      "execution_count": null,
      "outputs": [
        {
          "output_type": "stream",
          "text": [
            "/usr/local/lib/python3.7/dist-packages/ipykernel_launcher.py:1: SettingWithCopyWarning: \n",
            "A value is trying to be set on a copy of a slice from a DataFrame.\n",
            "Try using .loc[row_indexer,col_indexer] = value instead\n",
            "\n",
            "See the caveats in the documentation: https://pandas.pydata.org/pandas-docs/stable/user_guide/indexing.html#returning-a-view-versus-a-copy\n",
            "  \"\"\"Entry point for launching an IPython kernel.\n",
            "/usr/local/lib/python3.7/dist-packages/ipykernel_launcher.py:2: SettingWithCopyWarning: \n",
            "A value is trying to be set on a copy of a slice from a DataFrame.\n",
            "Try using .loc[row_indexer,col_indexer] = value instead\n",
            "\n",
            "See the caveats in the documentation: https://pandas.pydata.org/pandas-docs/stable/user_guide/indexing.html#returning-a-view-versus-a-copy\n",
            "  \n"
          ],
          "name": "stderr"
        },
        {
          "output_type": "execute_result",
          "data": {
            "text/html": [
              "<div>\n",
              "<style scoped>\n",
              "    .dataframe tbody tr th:only-of-type {\n",
              "        vertical-align: middle;\n",
              "    }\n",
              "\n",
              "    .dataframe tbody tr th {\n",
              "        vertical-align: top;\n",
              "    }\n",
              "\n",
              "    .dataframe thead th {\n",
              "        text-align: right;\n",
              "    }\n",
              "</style>\n",
              "<table border=\"1\" class=\"dataframe\">\n",
              "  <thead>\n",
              "    <tr style=\"text-align: right;\">\n",
              "      <th></th>\n",
              "      <th>model</th>\n",
              "      <th>year</th>\n",
              "      <th>mileage</th>\n",
              "      <th>tax</th>\n",
              "      <th>mpg</th>\n",
              "      <th>engineSize</th>\n",
              "      <th>price</th>\n",
              "      <th>car_price_pred</th>\n",
              "      <th>residual</th>\n",
              "    </tr>\n",
              "  </thead>\n",
              "  <tbody>\n",
              "    <tr>\n",
              "      <th>0</th>\n",
              "      <td>5</td>\n",
              "      <td>2017</td>\n",
              "      <td>15944</td>\n",
              "      <td>150</td>\n",
              "      <td>57.7</td>\n",
              "      <td>1.0</td>\n",
              "      <td>12000</td>\n",
              "      <td>11028.274738</td>\n",
              "      <td>971.725262</td>\n",
              "    </tr>\n",
              "    <tr>\n",
              "      <th>1</th>\n",
              "      <td>6</td>\n",
              "      <td>2018</td>\n",
              "      <td>9083</td>\n",
              "      <td>150</td>\n",
              "      <td>57.7</td>\n",
              "      <td>1.0</td>\n",
              "      <td>14000</td>\n",
              "      <td>12691.360940</td>\n",
              "      <td>1308.639060</td>\n",
              "    </tr>\n",
              "    <tr>\n",
              "      <th>2</th>\n",
              "      <td>6</td>\n",
              "      <td>2017</td>\n",
              "      <td>12456</td>\n",
              "      <td>150</td>\n",
              "      <td>57.7</td>\n",
              "      <td>1.0</td>\n",
              "      <td>13000</td>\n",
              "      <td>11290.332863</td>\n",
              "      <td>1709.667137</td>\n",
              "    </tr>\n",
              "    <tr>\n",
              "      <th>3</th>\n",
              "      <td>5</td>\n",
              "      <td>2019</td>\n",
              "      <td>10460</td>\n",
              "      <td>145</td>\n",
              "      <td>40.3</td>\n",
              "      <td>1.5</td>\n",
              "      <td>17500</td>\n",
              "      <td>17686.212473</td>\n",
              "      <td>-186.212473</td>\n",
              "    </tr>\n",
              "    <tr>\n",
              "      <th>4</th>\n",
              "      <td>5</td>\n",
              "      <td>2019</td>\n",
              "      <td>1482</td>\n",
              "      <td>145</td>\n",
              "      <td>48.7</td>\n",
              "      <td>1.0</td>\n",
              "      <td>16500</td>\n",
              "      <td>14998.969422</td>\n",
              "      <td>1501.030578</td>\n",
              "    </tr>\n",
              "  </tbody>\n",
              "</table>\n",
              "</div>"
            ],
            "text/plain": [
              "   model  year  mileage  tax  ...  engineSize  price  car_price_pred     residual\n",
              "0      5  2017    15944  150  ...         1.0  12000    11028.274738   971.725262\n",
              "1      6  2018     9083  150  ...         1.0  14000    12691.360940  1308.639060\n",
              "2      6  2017    12456  150  ...         1.0  13000    11290.332863  1709.667137\n",
              "3      5  2019    10460  145  ...         1.5  17500    17686.212473  -186.212473\n",
              "4      5  2019     1482  145  ...         1.0  16500    14998.969422  1501.030578\n",
              "\n",
              "[5 rows x 9 columns]"
            ]
          },
          "metadata": {
            "tags": []
          },
          "execution_count": 21
        }
      ]
    },
    {
      "cell_type": "markdown",
      "metadata": {
        "id": "8zUSt8qA_5-f"
      },
      "source": [
        "# Assumption Test"
      ]
    },
    {
      "cell_type": "code",
      "metadata": {
        "colab": {
          "base_uri": "https://localhost:8080/",
          "height": 439
        },
        "id": "3MuhtAgpE-4u",
        "outputId": "0a738bd3-fdf0-4da0-aab2-f50ffa4f1326"
      },
      "source": [
        "# Uji Linearitas\n",
        "\n",
        "# Plotting the observed vs predicted values\n",
        "sns.lmplot(x='price', y='car_price_pred', data=nw_data, fit_reg=False, size=5)\n",
        "    \n",
        "# Plotting the diagonal line\n",
        "line_coords = np.arange(nw_data[['price', 'car_price_pred']].min().min()-10, \n",
        "                        nw_data[['price', 'car_price_pred']].max().max()+10)\n",
        "plt.plot(line_coords, line_coords,  # X and y points\n",
        "         color='darkorange', linestyle='--')\n",
        "\n",
        "plt.ylabel('Predicted price car', fontsize=14)\n",
        "plt.xlabel('Actual price car', fontsize=14)\n",
        "plt.title('Linearity Assumption', fontsize=16)\n",
        "plt.show()"
      ],
      "execution_count": null,
      "outputs": [
        {
          "output_type": "stream",
          "text": [
            "/usr/local/lib/python3.7/dist-packages/seaborn/regression.py:580: UserWarning: The `size` parameter has been renamed to `height`; please update your code.\n",
            "  warnings.warn(msg, UserWarning)\n"
          ],
          "name": "stderr"
        },
        {
          "output_type": "display_data",
          "data": {
            "image/png": "[encoded data removed]",
            "text/plain": [
              "<Figure size 360x360 with 1 Axes>"
            ]
          },
          "metadata": {
            "tags": []
          }
        }
      ]
    },
    {
      "cell_type": "code",
      "metadata": {
        "colab": {
          "base_uri": "https://localhost:8080/",
          "height": 421
        },
        "id": "1btSLP4dHDUY",
        "outputId": "9d69592d-b887-45a9-aeb5-3c670ec84406"
      },
      "source": [
        "# Uji Normalisasi\n",
        "\n",
        "from statsmodels.stats.diagnostic import normal_ad\n",
        "\n",
        "# Performing the test on the residuals\n",
        "p_value = normal_ad(nw_data['residual'])[1]\n",
        "print('p-value from the test Anderson-Darling test below 0.05 generally means non-normal:', p_value)\n",
        "\n",
        "# Plotting the residuals distribution\n",
        "plt.subplots(figsize=(8, 4))\n",
        "plt.title('Distribution of Residuals', fontsize=18)\n",
        "sns.distplot(nw_data['residual'])\n",
        "plt.show()\n",
        "\n",
        "# Reporting the normality of the residuals\n",
        "if p_value < 0.05:\n",
        "    print('Residuals are not normally distributed')\n",
        "else:\n",
        "    print('Residuals are normally distributed')"
      ],
      "execution_count": null,
      "outputs": [
        {
          "output_type": "stream",
          "text": [
            "/usr/local/lib/python3.7/dist-packages/statsmodels/stats/_adnorm.py:67: RuntimeWarning: divide by zero encountered in log\n",
            "  S = np.sum((2*i[sl1]-1.0)/N*(np.log(z)+np.log(1-z[sl2])), axis=axis)\n",
            "/usr/local/lib/python3.7/dist-packages/seaborn/distributions.py:2557: FutureWarning: `distplot` is a deprecated function and will be removed in a future version. Please adapt your code to use either `displot` (a figure-level function with similar flexibility) or `histplot` (an axes-level function for histograms).\n",
            "  warnings.warn(msg, FutureWarning)\n"
          ],
          "name": "stderr"
        },
        {
          "output_type": "stream",
          "text": [
            "p-value from the test Anderson-Darling test below 0.05 generally means non-normal: 0.0\n"
          ],
          "name": "stdout"
        },
        {
          "output_type": "display_data",
          "data": {
            "image/png": "[encoded data removed]",
            "text/plain": [
              "<Figure size 576x288 with 1 Axes>"
            ]
          },
          "metadata": {
            "tags": []
          }
        },
        {
          "output_type": "stream",
          "text": [
            "Residuals are not normally distributed\n"
          ],
          "name": "stdout"
        }
      ]
    },
    {
      "cell_type": "code",
      "metadata": {
        "colab": {
          "base_uri": "https://localhost:8080/",
          "height": 301
        },
        "id": "kIAern-ILM6f",
        "outputId": "8abfece5-1b25-4d29-bb3c-d4e501ba8e3f"
      },
      "source": [
        "# HOMOSKEDASTISITAS\n",
        "\n",
        "# Plotting the residuals\n",
        "plt.subplots(figsize=(8, 4))\n",
        "plt.scatter(x=nw_data.index, y=nw_data.residual, alpha=0.8)\n",
        "plt.plot(np.repeat(0, len(nw_data.index)+2), color='darkorange', linestyle='--')\n",
        "\n",
        "plt.ylabel('Residual', fontsize=14)\n",
        "plt.xlabel('price', fontsize=14)\n",
        "plt.title('Homescedasticity Assumption', fontsize=16)\n",
        "plt.show()  "
      ],
      "execution_count": null,
      "outputs": [
        {
          "output_type": "display_data",
          "data": {
            "image/png": "[encoded data removed]",
            "text/plain": [
              "<Figure size 576x288 with 1 Axes>"
            ]
          },
          "metadata": {
            "tags": []
          }
        }
      ]
    },
    {
      "cell_type": "code",
      "metadata": {
        "id": "-FL-ksEuOxSb"
      },
      "source": [
        "plt.style.use(\"ggplot\")"
      ],
      "execution_count": null,
      "outputs": []
    },
    {
      "cell_type": "code",
      "metadata": {
        "colab": {
          "base_uri": "https://localhost:8080/"
        },
        "id": "YQJLuP8QO5nb",
        "outputId": "b038640e-1959-4366-e0b3-d6a48ecf7c0b"
      },
      "source": [
        "from statsmodels.stats.outliers_influence import variance_inflation_factor\n",
        "\n",
        "X = nw_data[['model','year','mileage','tax','mpg','engineSize']]\n",
        "  \n",
        "# VIF dataframe\n",
        "vif_data = pd.DataFrame()\n",
        "vif_data[\"feature\"] = X.columns\n",
        "  \n",
        "# calculating VIF for each feature\n",
        "vif_data[\"VIF\"] = [variance_inflation_factor(X.values, i)for i in range(len(X.columns))]\n",
        "  \n",
        "print(vif_data)"
      ],
      "execution_count": null,
      "outputs": [
        {
          "output_type": "stream",
          "text": [
            "      feature        VIF\n",
            "0       model   5.310672\n",
            "1        year  83.875355\n",
            "2     mileage   2.838659\n",
            "3         tax   6.288094\n",
            "4         mpg  47.369336\n",
            "5  engineSize  15.812469\n"
          ],
          "name": "stdout"
        }
      ]
    },
    {
      "cell_type": "code",
      "metadata": {
        "colab": {
          "background_save": true,
          "base_uri": "https://localhost:8080/",
          "height": 340
        },
        "id": "pgMORKllgAsg",
        "outputId": "71e5ad50-6fb4-4c28-d32a-8beaf1b4bcc0"
      },
      "source": [
        "from patsy import dmatrices\n",
        "from statsmodels.stats.outliers_influence import variance_inflation_factor\n",
        "vf = ['model','year','mileage','tax','mpg','engineSize']\n",
        "\n",
        "lm = smf.ols(formula = \"price~ model+year+mileage+tax+mpg+engineSize\", data = nw_data).fit()\n",
        "y,X = dmatrices (\"price~ model+year+mileage+tax+mpg+engineSize\", data = nw_data, return_type =\"dataframe\")\n",
        "vif = [variance_inflation_factor(X.values, i) for i in range(X.shape[1])]\n",
        "vf[ = pd.DataFrame(vif)"
      ],
      "execution_count": null,
      "outputs": [
        {
          "output_type": "stream",
          "text": [
            "            0\n",
            "0       model\n",
            "1        year\n",
            "2     mileage\n",
            "3         tax\n",
            "4         mpg\n",
            "5  engineSize\n"
          ],
          "name": "stdout"
        }
      ]
    },
    {
      "cell_type": "code",
      "metadata": {
        "id": "c8P3Okfwmf1p"
      },
      "source": [
        ""
      ],
      "execution_count": null,
      "outputs": []
    },
    {
      "cell_type": "code",
      "metadata": {
        "id": "KCxj9IwZHzOi"
      },
      "source": [
        ""
      ],
      "execution_count": null,
      "outputs": []
    },
    {
      "cell_type": "markdown",
      "metadata": {
        "id": "tEYnDOshH2sz"
      },
      "source": [
        "# Tambahan"
      ]
    },
    {
      "cell_type": "code",
      "metadata": {
        "colab": {
          "base_uri": "https://localhost:8080/"
        },
        "id": "7Oba0IxUH0vk",
        "outputId": "2acce0de-d3cc-4083-87b5-7cd97634c5a4"
      },
      "source": [
        "import pandas as pd\n",
        "import matplotlib.pyplot as plt\n",
        "import numpy as np\n",
        "from sklearn import preprocessing\n",
        "from sklearn.model_selection import train_test_split\n",
        "from sklearn import linear_model\n",
        "from sklearn.linear_model import LinearRegression\n",
        "\n",
        "def mark_predict(th,mil,tx,pg,engine):\n",
        "    # import data\n",
        "    data = pd.read_csv(\"ford.csv\")\n",
        "\n",
        "\n",
        "    # encoder data\n",
        "    encode = preprocessing.LabelEncoder()\n",
        "\n",
        "    encode.fit(data.transmission.drop_duplicates())\n",
        "    data.transmission = encode.transform(data.transmission)\n",
        "\n",
        "    encode.fit(data.fuelType.drop_duplicates())\n",
        "    data.fuelType = encode.transform(data.fuelType)\n",
        "\n",
        "    encode.fit(data.model.drop_duplicates())\n",
        "    data.model = encode.transform(data.model)\n",
        "\n",
        "    #Dropping data\n",
        "    data.drop(columns=['fuelType','transmission'], inplace=True)\n",
        "\n",
        "    #Pengurutan data\n",
        "    nw_data = data[['model','year','mileage','tax','mpg','engineSize','price']]\n",
        "\n",
        "\n",
        "    #feature and label selection\n",
        "    x = nw_data.iloc[:, 1:6].values\n",
        "    y = nw_data.iloc[:, -1].values\n",
        "\n",
        "    #Split data --> Train and split\n",
        "\n",
        "  \n",
        "    #Building model Linear regression\n",
        "    lr = LinearRegression()\n",
        "    lr.fit(x, y)\n",
        "\n",
        "    #Predict\n",
        "    X_test = np.array([th,mil,tx,pg,engine])\n",
        "    X_test = X_test.reshape((1,-1))\n",
        "    hasil = lr.predict(X_test)[0]\n",
        "\n",
        "\n",
        "    return round(hasil)\n",
        "\n",
        "mark_predict(2012,1546,140,40,2)\n"
      ],
      "execution_count": null,
      "outputs": [
        {
          "output_type": "execute_result",
          "data": {
            "text/plain": [
              "12575"
            ]
          },
          "metadata": {
            "tags": []
          },
          "execution_count": 5
        }
      ]
    },
    {
      "cell_type": "code",
      "metadata": {
        "id": "iPRU_G55JC2y"
      },
      "source": [
        "data['diagnotis'] = data['target']==1"
      ],
      "execution_count": null,
      "outputs": []
    }
  ]
}